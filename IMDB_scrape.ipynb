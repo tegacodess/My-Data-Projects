{
  "nbformat": 4,
  "nbformat_minor": 0,
  "metadata": {
    "colab": {
      "provenance": [],
      "authorship_tag": "ABX9TyMwxORy7U9PKPa1K0Cjivrd",
      "include_colab_link": true
    },
    "kernelspec": {
      "name": "python3",
      "display_name": "Python 3"
    },
    "language_info": {
      "name": "python"
    }
  },
  "cells": [
    {
      "cell_type": "markdown",
      "metadata": {
        "id": "view-in-github",
        "colab_type": "text"
      },
      "source": [
        "<a href=\"https://colab.research.google.com/github/tegacodess/My-Data-Projects/blob/main/IMDB_scrape.ipynb\" target=\"_parent\"><img src=\"https://colab.research.google.com/assets/colab-badge.svg\" alt=\"Open In Colab\"/></a>"
      ]
    },
    {
      "cell_type": "markdown",
      "source": [
        "# IMDB Site Webscrape 🎥\n",
        "\n",
        "In this notebook, I scraped the top 25 movies listed on the IMDB site. As a result of the dynamic, and constantly changing nature of the data obtained, the values in this notebook may not correspond with the actual top 25 movies on the site in the near future.\n",
        "\n",
        "To this effect, I have shown the data obtained and its state after every line of code that modifies it for the viewers proper understanding.\n",
        "\n",
        "### Objectives\n",
        "To obtain:\n",
        "1. Movie titles\n",
        "2. Movie rank number\n",
        "3. Number of votes\n",
        "4. Duration\n",
        "5. Release year\n",
        "6. Metascore\n",
        "7. Movie description\n",
        "\n",
        "\n",
        "### Tools\n",
        "* Python\n",
        "* Requests Library\n",
        "* BeautifulSoup Library\n",
        "* Pandas Library\n",
        "\n",
        "After the data has been obtained, it would be converted into a DataFrame and exported in the CSV, TSV, and Excel file formats."
      ],
      "metadata": {
        "id": "RPsTr8Wu4GgG"
      }
    },
    {
      "cell_type": "code",
      "source": [
        "# import libraries\n",
        "import requests\n",
        "from bs4 import BeautifulSoup\n",
        "import pandas as pd"
      ],
      "metadata": {
        "id": "mzjWN29K93J0"
      },
      "execution_count": 49,
      "outputs": []
    },
    {
      "cell_type": "code",
      "execution_count": 2,
      "metadata": {
        "colab": {
          "base_uri": "https://localhost:8080/"
        },
        "id": "jjJ15tDF9xuo",
        "outputId": "83e35570-82a5-48f2-ba29-e5956cbeb94d"
      },
      "outputs": [
        {
          "output_type": "stream",
          "name": "stdout",
          "text": [
            "Status code: 200\n"
          ]
        },
        {
          "output_type": "execute_result",
          "data": {
            "text/plain": [
              "200"
            ]
          },
          "metadata": {},
          "execution_count": 2
        }
      ],
      "source": [
        "# Define a user-agent to mimic a browser\n",
        "headers = {\n",
        "    'User-Agent': 'Mozilla/5.0 (Windows NT 10.0; Win64; x64) AppleWebKit/537.36 (KHTML, like Gecko) Chrome/91.0.4472.124 Safari/537.36',\n",
        "    'Accept': 'text/html,application/xhtml+xml,application/xml;q=0.9,image/webp,/;q=0.8',\n",
        "    'Accept-Language': 'en-US,en;q=0.5',\n",
        "    'Connection': 'keep-alive',\n",
        "    'Upgrade-Insecure-Requests': '1',\n",
        "}\n",
        "\n",
        "url = \"https://www.imdb.com/search/title/?groups=top_250\"  # Replace with your actual URL\n",
        "response = requests.get(url, headers=headers)\n",
        "\n",
        "# Check if the request was successful\n",
        "response.status_code\n"
      ]
    },
    {
      "cell_type": "code",
      "source": [
        "body = response.content"
      ],
      "metadata": {
        "id": "oDvTZ1Re_hLF"
      },
      "execution_count": 50,
      "outputs": []
    },
    {
      "cell_type": "code",
      "source": [
        "soup = BeautifulSoup(body, 'html.parser')"
      ],
      "metadata": {
        "id": "h0_GDZZL_YYU"
      },
      "execution_count": 51,
      "outputs": []
    },
    {
      "cell_type": "markdown",
      "source": [
        "### Scrape Movie Titles & Ranks"
      ],
      "metadata": {
        "id": "35EP6uCfB-w4"
      }
    },
    {
      "cell_type": "code",
      "source": [
        "# html element\n",
        "#  <h3 class=\"ipc-title__text\">Jaws</h3>"
      ],
      "metadata": {
        "id": "74spc-su-KZl"
      },
      "execution_count": 55,
      "outputs": []
    },
    {
      "cell_type": "code",
      "source": [
        "titles = soup.find_all(\"h3\", class_='ipc-title__text')\n",
        "titles"
      ],
      "metadata": {
        "colab": {
          "base_uri": "https://localhost:8080/"
        },
        "id": "RMHqrzHk_E1I",
        "outputId": "1e0f3274-2aba-4b4a-bc8a-162df6f0c25d"
      },
      "execution_count": 56,
      "outputs": [
        {
          "output_type": "execute_result",
          "data": {
            "text/plain": [
              "[<h3 class=\"ipc-title__text ipc-title__text--reduced\">1. Jaws</h3>,\n",
              " <h3 class=\"ipc-title__text ipc-title__text--reduced\">2. How to Train Your Dragon</h3>,\n",
              " <h3 class=\"ipc-title__text ipc-title__text--reduced\">3. The Shawshank Redemption</h3>,\n",
              " <h3 class=\"ipc-title__text ipc-title__text--reduced\">4. Top Gun: Maverick</h3>,\n",
              " <h3 class=\"ipc-title__text ipc-title__text--reduced\">5. The Godfather</h3>,\n",
              " <h3 class=\"ipc-title__text ipc-title__text--reduced\">6. The Wild Robot</h3>,\n",
              " <h3 class=\"ipc-title__text ipc-title__text--reduced\">7. Interstellar</h3>,\n",
              " <h3 class=\"ipc-title__text ipc-title__text--reduced\">8. Oppenheimer</h3>,\n",
              " <h3 class=\"ipc-title__text ipc-title__text--reduced\">9. Inception</h3>,\n",
              " <h3 class=\"ipc-title__text ipc-title__text--reduced\">10. The Departed</h3>,\n",
              " <h3 class=\"ipc-title__text ipc-title__text--reduced\">11. Goodfellas</h3>,\n",
              " <h3 class=\"ipc-title__text ipc-title__text--reduced\">12. Jurassic Park</h3>,\n",
              " <h3 class=\"ipc-title__text ipc-title__text--reduced\">13. The Dark Knight</h3>,\n",
              " <h3 class=\"ipc-title__text ipc-title__text--reduced\">14. Se7en</h3>,\n",
              " <h3 class=\"ipc-title__text ipc-title__text--reduced\">15. Fight Club</h3>,\n",
              " <h3 class=\"ipc-title__text ipc-title__text--reduced\">16. Dune: Part Two</h3>,\n",
              " <h3 class=\"ipc-title__text ipc-title__text--reduced\">17. The Lord of the Rings: The Fellowship of the Ring</h3>,\n",
              " <h3 class=\"ipc-title__text ipc-title__text--reduced\">18. Pulp Fiction</h3>,\n",
              " <h3 class=\"ipc-title__text ipc-title__text--reduced\">19. The Matrix</h3>,\n",
              " <h3 class=\"ipc-title__text ipc-title__text--reduced\">20. Parasite</h3>,\n",
              " <h3 class=\"ipc-title__text ipc-title__text--reduced\">21. The Prestige</h3>,\n",
              " <h3 class=\"ipc-title__text ipc-title__text--reduced\">22. Inglourious Basterds</h3>,\n",
              " <h3 class=\"ipc-title__text ipc-title__text--reduced\">23. Gladiator</h3>,\n",
              " <h3 class=\"ipc-title__text ipc-title__text--reduced\">24. The Silence of the Lambs</h3>,\n",
              " <h3 class=\"ipc-title__text ipc-title__text--reduced\">25. No Country for Old Men</h3>,\n",
              " <h3 class=\"ipc-title__text ipc-title__text--reduced\">Recently viewed</h3>]"
            ]
          },
          "metadata": {},
          "execution_count": 56
        }
      ]
    },
    {
      "cell_type": "code",
      "source": [
        "movie_titles = []\n",
        "for title in titles:\n",
        "  movie = title.get_text()\n",
        "  movie_titles.append(movie)\n",
        "\n",
        "movie_titles"
      ],
      "metadata": {
        "colab": {
          "base_uri": "https://localhost:8080/"
        },
        "id": "sA2Ucm9c_S0W",
        "outputId": "d8a97f8f-b766-4556-859f-b928b3ac42d7"
      },
      "execution_count": 57,
      "outputs": [
        {
          "output_type": "execute_result",
          "data": {
            "text/plain": [
              "['1. Jaws',\n",
              " '2. How to Train Your Dragon',\n",
              " '3. The Shawshank Redemption',\n",
              " '4. Top Gun: Maverick',\n",
              " '5. The Godfather',\n",
              " '6. The Wild Robot',\n",
              " '7. Interstellar',\n",
              " '8. Oppenheimer',\n",
              " '9. Inception',\n",
              " '10. The Departed',\n",
              " '11. Goodfellas',\n",
              " '12. Jurassic Park',\n",
              " '13. The Dark Knight',\n",
              " '14. Se7en',\n",
              " '15. Fight Club',\n",
              " '16. Dune: Part Two',\n",
              " '17. The Lord of the Rings: The Fellowship of the Ring',\n",
              " '18. Pulp Fiction',\n",
              " '19. The Matrix',\n",
              " '20. Parasite',\n",
              " '21. The Prestige',\n",
              " '22. Inglourious Basterds',\n",
              " '23. Gladiator',\n",
              " '24. The Silence of the Lambs',\n",
              " '25. No Country for Old Men',\n",
              " 'Recently viewed']"
            ]
          },
          "metadata": {},
          "execution_count": 57
        }
      ]
    },
    {
      "cell_type": "code",
      "source": [
        "del movie_titles[-1] #to remove the last item in the list since its not a movie title\n",
        "movie_titles"
      ],
      "metadata": {
        "colab": {
          "base_uri": "https://localhost:8080/"
        },
        "id": "f8kXAd9P_yy5",
        "outputId": "f07285ea-acb7-427a-e3ab-2cc9ca60a5c4"
      },
      "execution_count": 58,
      "outputs": [
        {
          "output_type": "execute_result",
          "data": {
            "text/plain": [
              "['1. Jaws',\n",
              " '2. How to Train Your Dragon',\n",
              " '3. The Shawshank Redemption',\n",
              " '4. Top Gun: Maverick',\n",
              " '5. The Godfather',\n",
              " '6. The Wild Robot',\n",
              " '7. Interstellar',\n",
              " '8. Oppenheimer',\n",
              " '9. Inception',\n",
              " '10. The Departed',\n",
              " '11. Goodfellas',\n",
              " '12. Jurassic Park',\n",
              " '13. The Dark Knight',\n",
              " '14. Se7en',\n",
              " '15. Fight Club',\n",
              " '16. Dune: Part Two',\n",
              " '17. The Lord of the Rings: The Fellowship of the Ring',\n",
              " '18. Pulp Fiction',\n",
              " '19. The Matrix',\n",
              " '20. Parasite',\n",
              " '21. The Prestige',\n",
              " '22. Inglourious Basterds',\n",
              " '23. Gladiator',\n",
              " '24. The Silence of the Lambs',\n",
              " '25. No Country for Old Men']"
            ]
          },
          "metadata": {},
          "execution_count": 58
        }
      ]
    },
    {
      "cell_type": "code",
      "source": [
        "titles = []\n",
        "ranks = []\n",
        "for movie in movie_titles:\n",
        " rank, title = movie.split('. ')\n",
        " ranks.append(rank)\n",
        " titles.append(title)"
      ],
      "metadata": {
        "id": "TSZQsuRB9Gb9"
      },
      "execution_count": 59,
      "outputs": []
    },
    {
      "cell_type": "code",
      "source": [
        "titles"
      ],
      "metadata": {
        "colab": {
          "base_uri": "https://localhost:8080/"
        },
        "id": "aD2CVqXc56fC",
        "outputId": "970c10dd-d4bf-4a54-c541-10498d291aa5"
      },
      "execution_count": 60,
      "outputs": [
        {
          "output_type": "execute_result",
          "data": {
            "text/plain": [
              "['Jaws',\n",
              " 'How to Train Your Dragon',\n",
              " 'The Shawshank Redemption',\n",
              " 'Top Gun: Maverick',\n",
              " 'The Godfather',\n",
              " 'The Wild Robot',\n",
              " 'Interstellar',\n",
              " 'Oppenheimer',\n",
              " 'Inception',\n",
              " 'The Departed',\n",
              " 'Goodfellas',\n",
              " 'Jurassic Park',\n",
              " 'The Dark Knight',\n",
              " 'Se7en',\n",
              " 'Fight Club',\n",
              " 'Dune: Part Two',\n",
              " 'The Lord of the Rings: The Fellowship of the Ring',\n",
              " 'Pulp Fiction',\n",
              " 'The Matrix',\n",
              " 'Parasite',\n",
              " 'The Prestige',\n",
              " 'Inglourious Basterds',\n",
              " 'Gladiator',\n",
              " 'The Silence of the Lambs',\n",
              " 'No Country for Old Men']"
            ]
          },
          "metadata": {},
          "execution_count": 60
        }
      ]
    },
    {
      "cell_type": "code",
      "source": [
        "ranks"
      ],
      "metadata": {
        "colab": {
          "base_uri": "https://localhost:8080/"
        },
        "id": "vsMikvTP58Rq",
        "outputId": "64ed9289-ea30-41ef-add6-ba807cb403ff"
      },
      "execution_count": 61,
      "outputs": [
        {
          "output_type": "execute_result",
          "data": {
            "text/plain": [
              "['1',\n",
              " '2',\n",
              " '3',\n",
              " '4',\n",
              " '5',\n",
              " '6',\n",
              " '7',\n",
              " '8',\n",
              " '9',\n",
              " '10',\n",
              " '11',\n",
              " '12',\n",
              " '13',\n",
              " '14',\n",
              " '15',\n",
              " '16',\n",
              " '17',\n",
              " '18',\n",
              " '19',\n",
              " '20',\n",
              " '21',\n",
              " '22',\n",
              " '23',\n",
              " '24',\n",
              " '25']"
            ]
          },
          "metadata": {},
          "execution_count": 61
        }
      ]
    },
    {
      "cell_type": "code",
      "source": [
        "len(movie_titles)"
      ],
      "metadata": {
        "colab": {
          "base_uri": "https://localhost:8080/"
        },
        "id": "vWEeHAkoFNEg",
        "outputId": "aa442902-c4df-48b9-ae9f-8ddcaf12f435"
      },
      "execution_count": 11,
      "outputs": [
        {
          "output_type": "execute_result",
          "data": {
            "text/plain": [
              "25"
            ]
          },
          "metadata": {},
          "execution_count": 11
        }
      ]
    },
    {
      "cell_type": "markdown",
      "source": [
        "### Scrape Movie Ratings"
      ],
      "metadata": {
        "id": "Hz_4lj2PEFfU"
      }
    },
    {
      "cell_type": "code",
      "source": [
        "# html element\n",
        "# <span class=\"ipc-rating-star--voteCount\">&nbsp;(<!-- -->1.5M<!-- -->)</span>"
      ],
      "metadata": {
        "id": "-qM0glplESzy"
      },
      "execution_count": 12,
      "outputs": []
    },
    {
      "cell_type": "code",
      "source": [
        "vote = soup.find_all(\"span\", class_='ipc-rating-star--voteCount')\n",
        "vote"
      ],
      "metadata": {
        "colab": {
          "base_uri": "https://localhost:8080/"
        },
        "id": "ePcUDOGZEFHz",
        "outputId": "fc96d269-7008-4f16-d551-0a9fb175dc2d"
      },
      "execution_count": 62,
      "outputs": [
        {
          "output_type": "execute_result",
          "data": {
            "text/plain": [
              "[<span class=\"ipc-rating-star--voteCount\"> (<!-- -->700K<!-- -->)</span>,\n",
              " <span class=\"ipc-rating-star--voteCount\"> (<!-- -->853K<!-- -->)</span>,\n",
              " <span class=\"ipc-rating-star--voteCount\"> (<!-- -->3.1M<!-- -->)</span>,\n",
              " <span class=\"ipc-rating-star--voteCount\"> (<!-- -->785K<!-- -->)</span>,\n",
              " <span class=\"ipc-rating-star--voteCount\"> (<!-- -->2.1M<!-- -->)</span>,\n",
              " <span class=\"ipc-rating-star--voteCount\"> (<!-- -->183K<!-- -->)</span>,\n",
              " <span class=\"ipc-rating-star--voteCount\"> (<!-- -->2.4M<!-- -->)</span>,\n",
              " <span class=\"ipc-rating-star--voteCount\"> (<!-- -->904K<!-- -->)</span>,\n",
              " <span class=\"ipc-rating-star--voteCount\"> (<!-- -->2.7M<!-- -->)</span>,\n",
              " <span class=\"ipc-rating-star--voteCount\"> (<!-- -->1.5M<!-- -->)</span>,\n",
              " <span class=\"ipc-rating-star--voteCount\"> (<!-- -->1.3M<!-- -->)</span>,\n",
              " <span class=\"ipc-rating-star--voteCount\"> (<!-- -->1.1M<!-- -->)</span>,\n",
              " <span class=\"ipc-rating-star--voteCount\"> (<!-- -->3M<!-- -->)</span>,\n",
              " <span class=\"ipc-rating-star--voteCount\"> (<!-- -->1.9M<!-- -->)</span>,\n",
              " <span class=\"ipc-rating-star--voteCount\"> (<!-- -->2.5M<!-- -->)</span>,\n",
              " <span class=\"ipc-rating-star--voteCount\"> (<!-- -->643K<!-- -->)</span>,\n",
              " <span class=\"ipc-rating-star--voteCount\"> (<!-- -->2.1M<!-- -->)</span>,\n",
              " <span class=\"ipc-rating-star--voteCount\"> (<!-- -->2.3M<!-- -->)</span>,\n",
              " <span class=\"ipc-rating-star--voteCount\"> (<!-- -->2.2M<!-- -->)</span>,\n",
              " <span class=\"ipc-rating-star--voteCount\"> (<!-- -->1.1M<!-- -->)</span>,\n",
              " <span class=\"ipc-rating-star--voteCount\"> (<!-- -->1.5M<!-- -->)</span>,\n",
              " <span class=\"ipc-rating-star--voteCount\"> (<!-- -->1.7M<!-- -->)</span>,\n",
              " <span class=\"ipc-rating-star--voteCount\"> (<!-- -->1.8M<!-- -->)</span>,\n",
              " <span class=\"ipc-rating-star--voteCount\"> (<!-- -->1.6M<!-- -->)</span>,\n",
              " <span class=\"ipc-rating-star--voteCount\"> (<!-- -->1.1M<!-- -->)</span>]"
            ]
          },
          "metadata": {},
          "execution_count": 62
        }
      ]
    },
    {
      "cell_type": "code",
      "source": [
        "vote_count = []\n",
        "for rating in vote:\n",
        "  num = rating.get_text()\n",
        "  text = num.strip('\\xa0()')\n",
        "  vote_count.append(text)\n",
        "\n",
        "\n",
        "vote_count\n",
        "# len(vote_count)"
      ],
      "metadata": {
        "colab": {
          "base_uri": "https://localhost:8080/"
        },
        "id": "jvNPNXvEEdP2",
        "outputId": "ed9c47ca-62ab-4bfb-fd9a-3a5d4fd2a214"
      },
      "execution_count": 63,
      "outputs": [
        {
          "output_type": "execute_result",
          "data": {
            "text/plain": [
              "['700K',\n",
              " '853K',\n",
              " '3.1M',\n",
              " '785K',\n",
              " '2.1M',\n",
              " '183K',\n",
              " '2.4M',\n",
              " '904K',\n",
              " '2.7M',\n",
              " '1.5M',\n",
              " '1.3M',\n",
              " '1.1M',\n",
              " '3M',\n",
              " '1.9M',\n",
              " '2.5M',\n",
              " '643K',\n",
              " '2.1M',\n",
              " '2.3M',\n",
              " '2.2M',\n",
              " '1.1M',\n",
              " '1.5M',\n",
              " '1.7M',\n",
              " '1.8M',\n",
              " '1.6M',\n",
              " '1.1M']"
            ]
          },
          "metadata": {},
          "execution_count": 63
        }
      ]
    },
    {
      "cell_type": "markdown",
      "source": [
        "### Release Year, Duration and Parental Guidiance Rating"
      ],
      "metadata": {
        "id": "J3Ou9XjmCDqb"
      }
    },
    {
      "cell_type": "code",
      "source": [
        "#html element\n",
        "# <span class=\"sc-86fea7d1-8 JTbpG dli-title-metadata-item\">1975</span>"
      ],
      "metadata": {
        "id": "EuJTZ99eA8rC"
      },
      "execution_count": 15,
      "outputs": []
    },
    {
      "cell_type": "code",
      "source": [
        "release= soup.find_all(\"span\", class_='sc-86fea7d1-8 JTbpG dli-title-metadata-item')\n",
        "release\n",
        "# len(release)"
      ],
      "metadata": {
        "colab": {
          "base_uri": "https://localhost:8080/"
        },
        "collapsed": true,
        "id": "6jYsNd8HDVB4",
        "outputId": "970d6baa-c754-4443-d2ea-700a8468d6c9"
      },
      "execution_count": 44,
      "outputs": [
        {
          "output_type": "execute_result",
          "data": {
            "text/plain": [
              "[<span class=\"sc-86fea7d1-8 JTbpG dli-title-metadata-item\">1975</span>,\n",
              " <span class=\"sc-86fea7d1-8 JTbpG dli-title-metadata-item\">2h 4m</span>,\n",
              " <span class=\"sc-86fea7d1-8 JTbpG dli-title-metadata-item\">PG</span>,\n",
              " <span class=\"sc-86fea7d1-8 JTbpG dli-title-metadata-item\">2010</span>,\n",
              " <span class=\"sc-86fea7d1-8 JTbpG dli-title-metadata-item\">1h 38m</span>,\n",
              " <span class=\"sc-86fea7d1-8 JTbpG dli-title-metadata-item\">PG</span>,\n",
              " <span class=\"sc-86fea7d1-8 JTbpG dli-title-metadata-item\">1994</span>,\n",
              " <span class=\"sc-86fea7d1-8 JTbpG dli-title-metadata-item\">2h 22m</span>,\n",
              " <span class=\"sc-86fea7d1-8 JTbpG dli-title-metadata-item\">R</span>,\n",
              " <span class=\"sc-86fea7d1-8 JTbpG dli-title-metadata-item\">2022</span>,\n",
              " <span class=\"sc-86fea7d1-8 JTbpG dli-title-metadata-item\">2h 10m</span>,\n",
              " <span class=\"sc-86fea7d1-8 JTbpG dli-title-metadata-item\">PG-13</span>,\n",
              " <span class=\"sc-86fea7d1-8 JTbpG dli-title-metadata-item\">1972</span>,\n",
              " <span class=\"sc-86fea7d1-8 JTbpG dli-title-metadata-item\">2h 55m</span>,\n",
              " <span class=\"sc-86fea7d1-8 JTbpG dli-title-metadata-item\">R</span>,\n",
              " <span class=\"sc-86fea7d1-8 JTbpG dli-title-metadata-item\">2024</span>,\n",
              " <span class=\"sc-86fea7d1-8 JTbpG dli-title-metadata-item\">1h 42m</span>,\n",
              " <span class=\"sc-86fea7d1-8 JTbpG dli-title-metadata-item\">PG</span>,\n",
              " <span class=\"sc-86fea7d1-8 JTbpG dli-title-metadata-item\">2014</span>,\n",
              " <span class=\"sc-86fea7d1-8 JTbpG dli-title-metadata-item\">2h 49m</span>,\n",
              " <span class=\"sc-86fea7d1-8 JTbpG dli-title-metadata-item\">PG-13</span>,\n",
              " <span class=\"sc-86fea7d1-8 JTbpG dli-title-metadata-item\">2023</span>,\n",
              " <span class=\"sc-86fea7d1-8 JTbpG dli-title-metadata-item\">3h</span>,\n",
              " <span class=\"sc-86fea7d1-8 JTbpG dli-title-metadata-item\">R</span>,\n",
              " <span class=\"sc-86fea7d1-8 JTbpG dli-title-metadata-item\">2010</span>,\n",
              " <span class=\"sc-86fea7d1-8 JTbpG dli-title-metadata-item\">2h 28m</span>,\n",
              " <span class=\"sc-86fea7d1-8 JTbpG dli-title-metadata-item\">PG-13</span>,\n",
              " <span class=\"sc-86fea7d1-8 JTbpG dli-title-metadata-item\">2006</span>,\n",
              " <span class=\"sc-86fea7d1-8 JTbpG dli-title-metadata-item\">2h 31m</span>,\n",
              " <span class=\"sc-86fea7d1-8 JTbpG dli-title-metadata-item\">R</span>,\n",
              " <span class=\"sc-86fea7d1-8 JTbpG dli-title-metadata-item\">1990</span>,\n",
              " <span class=\"sc-86fea7d1-8 JTbpG dli-title-metadata-item\">2h 25m</span>,\n",
              " <span class=\"sc-86fea7d1-8 JTbpG dli-title-metadata-item\">R</span>,\n",
              " <span class=\"sc-86fea7d1-8 JTbpG dli-title-metadata-item\">1993</span>,\n",
              " <span class=\"sc-86fea7d1-8 JTbpG dli-title-metadata-item\">2h 7m</span>,\n",
              " <span class=\"sc-86fea7d1-8 JTbpG dli-title-metadata-item\">PG-13</span>,\n",
              " <span class=\"sc-86fea7d1-8 JTbpG dli-title-metadata-item\">2008</span>,\n",
              " <span class=\"sc-86fea7d1-8 JTbpG dli-title-metadata-item\">2h 32m</span>,\n",
              " <span class=\"sc-86fea7d1-8 JTbpG dli-title-metadata-item\">PG-13</span>,\n",
              " <span class=\"sc-86fea7d1-8 JTbpG dli-title-metadata-item\">1995</span>,\n",
              " <span class=\"sc-86fea7d1-8 JTbpG dli-title-metadata-item\">2h 7m</span>,\n",
              " <span class=\"sc-86fea7d1-8 JTbpG dli-title-metadata-item\">R</span>,\n",
              " <span class=\"sc-86fea7d1-8 JTbpG dli-title-metadata-item\">1999</span>,\n",
              " <span class=\"sc-86fea7d1-8 JTbpG dli-title-metadata-item\">2h 19m</span>,\n",
              " <span class=\"sc-86fea7d1-8 JTbpG dli-title-metadata-item\">R</span>,\n",
              " <span class=\"sc-86fea7d1-8 JTbpG dli-title-metadata-item\">2024</span>,\n",
              " <span class=\"sc-86fea7d1-8 JTbpG dli-title-metadata-item\">2h 46m</span>,\n",
              " <span class=\"sc-86fea7d1-8 JTbpG dli-title-metadata-item\">PG-13</span>,\n",
              " <span class=\"sc-86fea7d1-8 JTbpG dli-title-metadata-item\">2001</span>,\n",
              " <span class=\"sc-86fea7d1-8 JTbpG dli-title-metadata-item\">2h 58m</span>,\n",
              " <span class=\"sc-86fea7d1-8 JTbpG dli-title-metadata-item\">PG-13</span>,\n",
              " <span class=\"sc-86fea7d1-8 JTbpG dli-title-metadata-item\">1994</span>,\n",
              " <span class=\"sc-86fea7d1-8 JTbpG dli-title-metadata-item\">2h 34m</span>,\n",
              " <span class=\"sc-86fea7d1-8 JTbpG dli-title-metadata-item\">R</span>,\n",
              " <span class=\"sc-86fea7d1-8 JTbpG dli-title-metadata-item\">1999</span>,\n",
              " <span class=\"sc-86fea7d1-8 JTbpG dli-title-metadata-item\">2h 16m</span>,\n",
              " <span class=\"sc-86fea7d1-8 JTbpG dli-title-metadata-item\">R</span>,\n",
              " <span class=\"sc-86fea7d1-8 JTbpG dli-title-metadata-item\">2019</span>,\n",
              " <span class=\"sc-86fea7d1-8 JTbpG dli-title-metadata-item\">2h 12m</span>,\n",
              " <span class=\"sc-86fea7d1-8 JTbpG dli-title-metadata-item\">R</span>,\n",
              " <span class=\"sc-86fea7d1-8 JTbpG dli-title-metadata-item\">2006</span>,\n",
              " <span class=\"sc-86fea7d1-8 JTbpG dli-title-metadata-item\">2h 10m</span>,\n",
              " <span class=\"sc-86fea7d1-8 JTbpG dli-title-metadata-item\">PG-13</span>,\n",
              " <span class=\"sc-86fea7d1-8 JTbpG dli-title-metadata-item\">2009</span>,\n",
              " <span class=\"sc-86fea7d1-8 JTbpG dli-title-metadata-item\">2h 33m</span>,\n",
              " <span class=\"sc-86fea7d1-8 JTbpG dli-title-metadata-item\">R</span>,\n",
              " <span class=\"sc-86fea7d1-8 JTbpG dli-title-metadata-item\">2000</span>,\n",
              " <span class=\"sc-86fea7d1-8 JTbpG dli-title-metadata-item\">2h 35m</span>,\n",
              " <span class=\"sc-86fea7d1-8 JTbpG dli-title-metadata-item\">R</span>,\n",
              " <span class=\"sc-86fea7d1-8 JTbpG dli-title-metadata-item\">1991</span>,\n",
              " <span class=\"sc-86fea7d1-8 JTbpG dli-title-metadata-item\">1h 58m</span>,\n",
              " <span class=\"sc-86fea7d1-8 JTbpG dli-title-metadata-item\">R</span>,\n",
              " <span class=\"sc-86fea7d1-8 JTbpG dli-title-metadata-item\">2007</span>,\n",
              " <span class=\"sc-86fea7d1-8 JTbpG dli-title-metadata-item\">2h 2m</span>,\n",
              " <span class=\"sc-86fea7d1-8 JTbpG dli-title-metadata-item\">R</span>]"
            ]
          },
          "metadata": {},
          "execution_count": 44
        }
      ]
    },
    {
      "cell_type": "code",
      "source": [
        "# using a for loop and conditional statements, extract the release year, pg rating and duration from the list 'release'\n",
        "\n",
        "release_year = []\n",
        "pg_rating=[]\n",
        "duration =[]\n",
        "\n",
        "for year in release:\n",
        "  text = year.get_text()\n",
        "\n",
        "  # for release year\n",
        "  if text.isdigit and len(text) == 4:\n",
        "    release_year.append(text)\n",
        "\n",
        "# duration\n",
        "  elif 'h' in text and 'm' in text or 'h' in text:\n",
        "    duration.append(text)\n",
        "# parental guidiance\n",
        "  else:\n",
        "    pg_rating.append(text)"
      ],
      "metadata": {
        "id": "3Rq1bpP73pIF"
      },
      "execution_count": 64,
      "outputs": []
    },
    {
      "cell_type": "code",
      "source": [
        "release_year"
      ],
      "metadata": {
        "colab": {
          "base_uri": "https://localhost:8080/"
        },
        "id": "8A4BipMa8BU-",
        "outputId": "6853109c-5aca-49e2-a658-474d0d5fe98d"
      },
      "execution_count": 65,
      "outputs": [
        {
          "output_type": "execute_result",
          "data": {
            "text/plain": [
              "['1975',\n",
              " '2010',\n",
              " '1994',\n",
              " '2022',\n",
              " '1972',\n",
              " '2024',\n",
              " '2014',\n",
              " '2023',\n",
              " '2010',\n",
              " '2006',\n",
              " '1990',\n",
              " '1993',\n",
              " '2008',\n",
              " '1995',\n",
              " '1999',\n",
              " '2024',\n",
              " '2001',\n",
              " '1994',\n",
              " '1999',\n",
              " '2019',\n",
              " '2006',\n",
              " '2009',\n",
              " '2000',\n",
              " '1991',\n",
              " '2007']"
            ]
          },
          "metadata": {},
          "execution_count": 65
        }
      ]
    },
    {
      "cell_type": "code",
      "source": [
        "pg_rating"
      ],
      "metadata": {
        "colab": {
          "base_uri": "https://localhost:8080/"
        },
        "id": "A8qGcVj78EZ8",
        "outputId": "b4bd4459-bf49-4cd1-986a-2a3dd213d036"
      },
      "execution_count": 66,
      "outputs": [
        {
          "output_type": "execute_result",
          "data": {
            "text/plain": [
              "['PG',\n",
              " 'PG',\n",
              " 'R',\n",
              " 'PG-13',\n",
              " 'R',\n",
              " 'PG',\n",
              " 'PG-13',\n",
              " 'R',\n",
              " 'PG-13',\n",
              " 'R',\n",
              " 'R',\n",
              " 'PG-13',\n",
              " 'PG-13',\n",
              " 'R',\n",
              " 'R',\n",
              " 'PG-13',\n",
              " 'PG-13',\n",
              " 'R',\n",
              " 'R',\n",
              " 'R',\n",
              " 'PG-13',\n",
              " 'R',\n",
              " 'R',\n",
              " 'R',\n",
              " 'R']"
            ]
          },
          "metadata": {},
          "execution_count": 66
        }
      ]
    },
    {
      "cell_type": "code",
      "source": [
        "duration"
      ],
      "metadata": {
        "colab": {
          "base_uri": "https://localhost:8080/"
        },
        "id": "eCFgmLM38GM-",
        "outputId": "31367180-dc55-4e4e-80c3-28f2b8cf6676"
      },
      "execution_count": 67,
      "outputs": [
        {
          "output_type": "execute_result",
          "data": {
            "text/plain": [
              "['2h 4m',\n",
              " '1h 38m',\n",
              " '2h 22m',\n",
              " '2h 10m',\n",
              " '2h 55m',\n",
              " '1h 42m',\n",
              " '2h 49m',\n",
              " '3h',\n",
              " '2h 28m',\n",
              " '2h 31m',\n",
              " '2h 25m',\n",
              " '2h 7m',\n",
              " '2h 32m',\n",
              " '2h 7m',\n",
              " '2h 19m',\n",
              " '2h 46m',\n",
              " '2h 58m',\n",
              " '2h 34m',\n",
              " '2h 16m',\n",
              " '2h 12m',\n",
              " '2h 10m',\n",
              " '2h 33m',\n",
              " '2h 35m',\n",
              " '1h 58m',\n",
              " '2h 2m']"
            ]
          },
          "metadata": {},
          "execution_count": 67
        }
      ]
    },
    {
      "cell_type": "markdown",
      "source": [
        "### Movie Description"
      ],
      "metadata": {
        "id": "B8FG0rBc7hDG"
      }
    },
    {
      "cell_type": "code",
      "source": [
        "# html element\n",
        "# <div class=\"ipc-html-content-inner-div\" role=\"presentation\">Luke Skywalker joins forces with a Jedi Knight, a cocky pilot, a Wookiee and two droids to save the galaxy from the Empire's world-destroying battle station, while also attempting to rescue Princess Leia from the mysterious Darth Vader.</div>"
      ],
      "metadata": {
        "id": "lN4E3XeqaarX"
      },
      "execution_count": 25,
      "outputs": []
    },
    {
      "cell_type": "code",
      "source": [
        "description= soup.find_all(\"div\", class_='ipc-html-content-inner-div')\n",
        "description"
      ],
      "metadata": {
        "id": "QVBdqiZ4ajTk"
      },
      "execution_count": 42,
      "outputs": []
    },
    {
      "cell_type": "code",
      "source": [
        "movie_description = []\n",
        "for desc in description:\n",
        "  movie_desc = desc.get_text()\n",
        "  movie_description.append(movie_desc)\n",
        "\n",
        "movie_description"
      ],
      "metadata": {
        "colab": {
          "base_uri": "https://localhost:8080/"
        },
        "id": "RWGSmlpoaya4",
        "outputId": "90f31d73-00a0-40d3-dc31-50a8f90ae51a"
      },
      "execution_count": 68,
      "outputs": [
        {
          "output_type": "execute_result",
          "data": {
            "text/plain": [
              "[\"When a massive killer shark unleashes chaos on a beach community off Long Island, it's up to the local police chief, a marine biologist, and an old seafarer to hunt the beast down.\",\n",
              " 'A hapless young Viking who aspires to hunt dragons becomes the unlikely friend of a young dragon himself, and learns there may be more to the creatures than he assumed.',\n",
              " 'A banker convicted of uxoricide forms a friendship over a quarter century with a hardened convict, while maintaining his innocence and trying to remain hopeful through simple compassion.',\n",
              " 'The story involves Maverick confronting his past while training a group of younger Top Gun graduates, including the son of his deceased best friend, for a dangerous mission.',\n",
              " 'The aging patriarch of an organized crime dynasty transfers control of his clandestine empire to his reluctant son.',\n",
              " \"After a shipwreck, an intelligent robot called Roz is stranded on an uninhabited island. To survive the harsh environment, Roz bonds with the island's animals and cares for an orphaned baby goose.\",\n",
              " 'When Earth becomes uninhabitable in the future, a farmer and ex-NASA pilot, Joseph Cooper, is tasked to pilot a spacecraft, along with a team of researchers, to find a new planet for humans.',\n",
              " 'A dramatization of the life story of J. Robert Oppenheimer, the physicist who had a large hand in the development of the atomic bombs that brought an end to World War II.',\n",
              " 'A thief who steals corporate secrets through the use of dream-sharing technology is given the inverse task of planting an idea into the mind of a C.E.O., but his tragic past may doom the project and his team to disaster.',\n",
              " 'An undercover cop and a mole in the police attempt to identify each other while infiltrating an Irish gang in South Boston.',\n",
              " 'The story of Henry Hill and his life in the mafia, covering his relationship with his wife Karen and his mob partners Jimmy Conway and Tommy DeVito.',\n",
              " \"An industrialist invites some experts to visit his theme park of cloned dinosaurs. After a power failure, the creatures run loose, putting everyone's lives, including his grandchildren's, in danger.\",\n",
              " 'When a menace known as the Joker wreaks havoc and chaos on the people of Gotham, Batman, James Gordon and Harvey Dent must work together to put an end to the madness.',\n",
              " 'Two detectives, a rookie and a veteran, hunt a serial killer who uses the seven deadly sins as his motives.',\n",
              " 'An insomniac office worker and a devil-may-care soap maker form an underground fight club that evolves into much more.',\n",
              " 'Paul Atreides unites with the Fremen while on a warpath of revenge against the conspirators who destroyed his family. Facing a choice between the love of his life and the fate of the universe, he endeavors to prevent a terrible future.',\n",
              " 'A meek Hobbit from the Shire and eight companions set out on a journey to destroy the powerful One Ring and save Middle-earth from the Dark Lord Sauron.',\n",
              " 'The lives of two mob hitmen, a boxer, a gangster and his wife, and a pair of diner bandits intertwine in four tales of violence and redemption.',\n",
              " 'When a beautiful stranger leads computer hacker Neo to a forbidding underworld, he discovers the shocking truth--the life he knows is the elaborate deception of an evil cyber-intelligence.',\n",
              " 'Greed and class discrimination threaten the newly formed symbiotic relationship between the wealthy Park family and the destitute Kim clan.',\n",
              " 'Rival 19th-century magicians engage in a bitter battle for trade secrets.',\n",
              " \"In Nazi-occupied France during World War II, a plan to assassinate Nazi leaders by a group of Jewish U.S. soldiers coincides with a theatre owner's vengeful plans for the same.\",\n",
              " 'A former Roman General sets out to exact vengeance against the corrupt emperor who murdered his family and sent him into slavery.',\n",
              " 'A young F.B.I. cadet must receive the help of an incarcerated and manipulative cannibal killer to help catch another serial killer, a madman who skins his victims.',\n",
              " 'Violence and mayhem ensue after a hunter stumbles upon the aftermath of a drug deal gone wrong and over two million dollars in cash near the Rio Grande.']"
            ]
          },
          "metadata": {},
          "execution_count": 68
        }
      ]
    },
    {
      "cell_type": "code",
      "source": [
        "len(movie_description)"
      ],
      "metadata": {
        "colab": {
          "base_uri": "https://localhost:8080/"
        },
        "id": "JZGypcq8w8r0",
        "outputId": "d4347362-8ef9-49d3-8791-edbcc8f11d77"
      },
      "execution_count": 28,
      "outputs": [
        {
          "output_type": "execute_result",
          "data": {
            "text/plain": [
              "25"
            ]
          },
          "metadata": {},
          "execution_count": 28
        }
      ]
    },
    {
      "cell_type": "markdown",
      "source": [
        "### Metascore"
      ],
      "metadata": {
        "id": "eLc1hXGl6QqU"
      }
    },
    {
      "cell_type": "code",
      "source": [
        "# html tag\n",
        "# <span class=\"sc-9fe7b0ef-0 hDuMnh metacritic-score-box\" style=\"background-color:#54A72A\">87</span>"
      ],
      "metadata": {
        "id": "zGizUnLR6NxZ"
      },
      "execution_count": 69,
      "outputs": []
    },
    {
      "cell_type": "code",
      "source": [
        "meta_score = soup.find_all(\"span\", class_ = 'sc-9fe7b0ef-0 hDuMnh metacritic-score-box')\n",
        "meta_score"
      ],
      "metadata": {
        "colab": {
          "base_uri": "https://localhost:8080/"
        },
        "id": "BK61XAkG6P2T",
        "outputId": "180b5418-d9d6-407d-bdb2-fa329b81c841"
      },
      "execution_count": 70,
      "outputs": [
        {
          "output_type": "execute_result",
          "data": {
            "text/plain": [
              "[<span class=\"sc-9fe7b0ef-0 hDuMnh metacritic-score-box\" style=\"background-color:#54A72A\">87</span>,\n",
              " <span class=\"sc-9fe7b0ef-0 hDuMnh metacritic-score-box\" style=\"background-color:#54A72A\">75</span>,\n",
              " <span class=\"sc-9fe7b0ef-0 hDuMnh metacritic-score-box\" style=\"background-color:#54A72A\">82</span>,\n",
              " <span class=\"sc-9fe7b0ef-0 hDuMnh metacritic-score-box\" style=\"background-color:#54A72A\">78</span>,\n",
              " <span class=\"sc-9fe7b0ef-0 hDuMnh metacritic-score-box\" style=\"background-color:#54A72A\">100</span>,\n",
              " <span class=\"sc-9fe7b0ef-0 hDuMnh metacritic-score-box\" style=\"background-color:#54A72A\">85</span>,\n",
              " <span class=\"sc-9fe7b0ef-0 hDuMnh metacritic-score-box\" style=\"background-color:#54A72A\">74</span>,\n",
              " <span class=\"sc-9fe7b0ef-0 hDuMnh metacritic-score-box\" style=\"background-color:#54A72A\">90</span>,\n",
              " <span class=\"sc-9fe7b0ef-0 hDuMnh metacritic-score-box\" style=\"background-color:#54A72A\">74</span>,\n",
              " <span class=\"sc-9fe7b0ef-0 hDuMnh metacritic-score-box\" style=\"background-color:#54A72A\">85</span>,\n",
              " <span class=\"sc-9fe7b0ef-0 hDuMnh metacritic-score-box\" style=\"background-color:#54A72A\">92</span>,\n",
              " <span class=\"sc-9fe7b0ef-0 hDuMnh metacritic-score-box\" style=\"background-color:#54A72A\">68</span>,\n",
              " <span class=\"sc-9fe7b0ef-0 hDuMnh metacritic-score-box\" style=\"background-color:#54A72A\">85</span>,\n",
              " <span class=\"sc-9fe7b0ef-0 hDuMnh metacritic-score-box\" style=\"background-color:#54A72A\">65</span>,\n",
              " <span class=\"sc-9fe7b0ef-0 hDuMnh metacritic-score-box\" style=\"background-color:#54A72A\">67</span>,\n",
              " <span class=\"sc-9fe7b0ef-0 hDuMnh metacritic-score-box\" style=\"background-color:#54A72A\">79</span>,\n",
              " <span class=\"sc-9fe7b0ef-0 hDuMnh metacritic-score-box\" style=\"background-color:#54A72A\">92</span>,\n",
              " <span class=\"sc-9fe7b0ef-0 hDuMnh metacritic-score-box\" style=\"background-color:#54A72A\">95</span>,\n",
              " <span class=\"sc-9fe7b0ef-0 hDuMnh metacritic-score-box\" style=\"background-color:#54A72A\">73</span>,\n",
              " <span class=\"sc-9fe7b0ef-0 hDuMnh metacritic-score-box\" style=\"background-color:#54A72A\">97</span>,\n",
              " <span class=\"sc-9fe7b0ef-0 hDuMnh metacritic-score-box\" style=\"background-color:#54A72A\">66</span>,\n",
              " <span class=\"sc-9fe7b0ef-0 hDuMnh metacritic-score-box\" style=\"background-color:#54A72A\">69</span>,\n",
              " <span class=\"sc-9fe7b0ef-0 hDuMnh metacritic-score-box\" style=\"background-color:#54A72A\">67</span>,\n",
              " <span class=\"sc-9fe7b0ef-0 hDuMnh metacritic-score-box\" style=\"background-color:#54A72A\">86</span>,\n",
              " <span class=\"sc-9fe7b0ef-0 hDuMnh metacritic-score-box\" style=\"background-color:#54A72A\">92</span>]"
            ]
          },
          "metadata": {},
          "execution_count": 70
        }
      ]
    },
    {
      "cell_type": "code",
      "source": [
        "metascore =[]\n",
        "for score in meta_score:\n",
        "  meta = score.get_text()\n",
        "  metascore.append(meta)\n",
        "\n",
        "metascore"
      ],
      "metadata": {
        "colab": {
          "base_uri": "https://localhost:8080/"
        },
        "id": "0vC95ZZB6gfC",
        "outputId": "964c41a3-a3d3-4cb0-835e-262a2d87e91a"
      },
      "execution_count": 71,
      "outputs": [
        {
          "output_type": "execute_result",
          "data": {
            "text/plain": [
              "['87',\n",
              " '75',\n",
              " '82',\n",
              " '78',\n",
              " '100',\n",
              " '85',\n",
              " '74',\n",
              " '90',\n",
              " '74',\n",
              " '85',\n",
              " '92',\n",
              " '68',\n",
              " '85',\n",
              " '65',\n",
              " '67',\n",
              " '79',\n",
              " '92',\n",
              " '95',\n",
              " '73',\n",
              " '97',\n",
              " '66',\n",
              " '69',\n",
              " '67',\n",
              " '86',\n",
              " '92']"
            ]
          },
          "metadata": {},
          "execution_count": 71
        }
      ]
    },
    {
      "cell_type": "markdown",
      "source": [
        "### Store the scraped data in a data frame\n"
      ],
      "metadata": {
        "id": "oly6Zutnxexb"
      }
    },
    {
      "cell_type": "code",
      "source": [
        "data = pd.DataFrame()\n",
        "\n",
        "data['Title'] = titles\n",
        "data['Rank'] = ranks\n",
        "data['Vote'] = vote_count\n",
        "data['Duration'] = duration\n",
        "data['Release Year'] = release_year\n",
        "data['PG Rating'] = pg_rating\n",
        "data['Metascore'] = metascore\n",
        "data['Description'] = movie_description\n",
        "\n",
        "data.head()"
      ],
      "metadata": {
        "colab": {
          "base_uri": "https://localhost:8080/",
          "height": 206
        },
        "id": "HKRuH_HixcmE",
        "outputId": "91d2d931-b581-4696-bc87-a1e6b19c43b8"
      },
      "execution_count": 37,
      "outputs": [
        {
          "output_type": "execute_result",
          "data": {
            "text/plain": [
              "                      Title Rank  Vote Duration Release Year PG Rating  \\\n",
              "0                      Jaws    1  700K    2h 4m         1975        PG   \n",
              "1  How to Train Your Dragon    2  853K   1h 38m         2010        PG   \n",
              "2  The Shawshank Redemption    3  3.1M   2h 22m         1994         R   \n",
              "3         Top Gun: Maverick    4  785K   2h 10m         2022     PG-13   \n",
              "4             The Godfather    5  2.1M   2h 55m         1972         R   \n",
              "\n",
              "  Metascore                                        Description  \n",
              "0        87  When a massive killer shark unleashes chaos on...  \n",
              "1        75  A hapless young Viking who aspires to hunt dra...  \n",
              "2        82  A banker convicted of uxoricide forms a friend...  \n",
              "3        78  The story involves Maverick confronting his pa...  \n",
              "4       100  The aging patriarch of an organized crime dyna...  "
            ],
            "text/html": [
              "\n",
              "  <div id=\"df-30161e92-6737-4ef6-8fde-96c5acf740d1\" class=\"colab-df-container\">\n",
              "    <div>\n",
              "<style scoped>\n",
              "    .dataframe tbody tr th:only-of-type {\n",
              "        vertical-align: middle;\n",
              "    }\n",
              "\n",
              "    .dataframe tbody tr th {\n",
              "        vertical-align: top;\n",
              "    }\n",
              "\n",
              "    .dataframe thead th {\n",
              "        text-align: right;\n",
              "    }\n",
              "</style>\n",
              "<table border=\"1\" class=\"dataframe\">\n",
              "  <thead>\n",
              "    <tr style=\"text-align: right;\">\n",
              "      <th></th>\n",
              "      <th>Title</th>\n",
              "      <th>Rank</th>\n",
              "      <th>Vote</th>\n",
              "      <th>Duration</th>\n",
              "      <th>Release Year</th>\n",
              "      <th>PG Rating</th>\n",
              "      <th>Metascore</th>\n",
              "      <th>Description</th>\n",
              "    </tr>\n",
              "  </thead>\n",
              "  <tbody>\n",
              "    <tr>\n",
              "      <th>0</th>\n",
              "      <td>Jaws</td>\n",
              "      <td>1</td>\n",
              "      <td>700K</td>\n",
              "      <td>2h 4m</td>\n",
              "      <td>1975</td>\n",
              "      <td>PG</td>\n",
              "      <td>87</td>\n",
              "      <td>When a massive killer shark unleashes chaos on...</td>\n",
              "    </tr>\n",
              "    <tr>\n",
              "      <th>1</th>\n",
              "      <td>How to Train Your Dragon</td>\n",
              "      <td>2</td>\n",
              "      <td>853K</td>\n",
              "      <td>1h 38m</td>\n",
              "      <td>2010</td>\n",
              "      <td>PG</td>\n",
              "      <td>75</td>\n",
              "      <td>A hapless young Viking who aspires to hunt dra...</td>\n",
              "    </tr>\n",
              "    <tr>\n",
              "      <th>2</th>\n",
              "      <td>The Shawshank Redemption</td>\n",
              "      <td>3</td>\n",
              "      <td>3.1M</td>\n",
              "      <td>2h 22m</td>\n",
              "      <td>1994</td>\n",
              "      <td>R</td>\n",
              "      <td>82</td>\n",
              "      <td>A banker convicted of uxoricide forms a friend...</td>\n",
              "    </tr>\n",
              "    <tr>\n",
              "      <th>3</th>\n",
              "      <td>Top Gun: Maverick</td>\n",
              "      <td>4</td>\n",
              "      <td>785K</td>\n",
              "      <td>2h 10m</td>\n",
              "      <td>2022</td>\n",
              "      <td>PG-13</td>\n",
              "      <td>78</td>\n",
              "      <td>The story involves Maverick confronting his pa...</td>\n",
              "    </tr>\n",
              "    <tr>\n",
              "      <th>4</th>\n",
              "      <td>The Godfather</td>\n",
              "      <td>5</td>\n",
              "      <td>2.1M</td>\n",
              "      <td>2h 55m</td>\n",
              "      <td>1972</td>\n",
              "      <td>R</td>\n",
              "      <td>100</td>\n",
              "      <td>The aging patriarch of an organized crime dyna...</td>\n",
              "    </tr>\n",
              "  </tbody>\n",
              "</table>\n",
              "</div>\n",
              "    <div class=\"colab-df-buttons\">\n",
              "\n",
              "  <div class=\"colab-df-container\">\n",
              "    <button class=\"colab-df-convert\" onclick=\"convertToInteractive('df-30161e92-6737-4ef6-8fde-96c5acf740d1')\"\n",
              "            title=\"Convert this dataframe to an interactive table.\"\n",
              "            style=\"display:none;\">\n",
              "\n",
              "  <svg xmlns=\"http://www.w3.org/2000/svg\" height=\"24px\" viewBox=\"0 -960 960 960\">\n",
              "    <path d=\"M120-120v-720h720v720H120Zm60-500h600v-160H180v160Zm220 220h160v-160H400v160Zm0 220h160v-160H400v160ZM180-400h160v-160H180v160Zm440 0h160v-160H620v160ZM180-180h160v-160H180v160Zm440 0h160v-160H620v160Z\"/>\n",
              "  </svg>\n",
              "    </button>\n",
              "\n",
              "  <style>\n",
              "    .colab-df-container {\n",
              "      display:flex;\n",
              "      gap: 12px;\n",
              "    }\n",
              "\n",
              "    .colab-df-convert {\n",
              "      background-color: #E8F0FE;\n",
              "      border: none;\n",
              "      border-radius: 50%;\n",
              "      cursor: pointer;\n",
              "      display: none;\n",
              "      fill: #1967D2;\n",
              "      height: 32px;\n",
              "      padding: 0 0 0 0;\n",
              "      width: 32px;\n",
              "    }\n",
              "\n",
              "    .colab-df-convert:hover {\n",
              "      background-color: #E2EBFA;\n",
              "      box-shadow: 0px 1px 2px rgba(60, 64, 67, 0.3), 0px 1px 3px 1px rgba(60, 64, 67, 0.15);\n",
              "      fill: #174EA6;\n",
              "    }\n",
              "\n",
              "    .colab-df-buttons div {\n",
              "      margin-bottom: 4px;\n",
              "    }\n",
              "\n",
              "    [theme=dark] .colab-df-convert {\n",
              "      background-color: #3B4455;\n",
              "      fill: #D2E3FC;\n",
              "    }\n",
              "\n",
              "    [theme=dark] .colab-df-convert:hover {\n",
              "      background-color: #434B5C;\n",
              "      box-shadow: 0px 1px 3px 1px rgba(0, 0, 0, 0.15);\n",
              "      filter: drop-shadow(0px 1px 2px rgba(0, 0, 0, 0.3));\n",
              "      fill: #FFFFFF;\n",
              "    }\n",
              "  </style>\n",
              "\n",
              "    <script>\n",
              "      const buttonEl =\n",
              "        document.querySelector('#df-30161e92-6737-4ef6-8fde-96c5acf740d1 button.colab-df-convert');\n",
              "      buttonEl.style.display =\n",
              "        google.colab.kernel.accessAllowed ? 'block' : 'none';\n",
              "\n",
              "      async function convertToInteractive(key) {\n",
              "        const element = document.querySelector('#df-30161e92-6737-4ef6-8fde-96c5acf740d1');\n",
              "        const dataTable =\n",
              "          await google.colab.kernel.invokeFunction('convertToInteractive',\n",
              "                                                    [key], {});\n",
              "        if (!dataTable) return;\n",
              "\n",
              "        const docLinkHtml = 'Like what you see? Visit the ' +\n",
              "          '<a target=\"_blank\" href=https://colab.research.google.com/notebooks/data_table.ipynb>data table notebook</a>'\n",
              "          + ' to learn more about interactive tables.';\n",
              "        element.innerHTML = '';\n",
              "        dataTable['output_type'] = 'display_data';\n",
              "        await google.colab.output.renderOutput(dataTable, element);\n",
              "        const docLink = document.createElement('div');\n",
              "        docLink.innerHTML = docLinkHtml;\n",
              "        element.appendChild(docLink);\n",
              "      }\n",
              "    </script>\n",
              "  </div>\n",
              "\n",
              "\n",
              "    <div id=\"df-f80dd4b9-2257-4a54-b905-42f6b9585169\">\n",
              "      <button class=\"colab-df-quickchart\" onclick=\"quickchart('df-f80dd4b9-2257-4a54-b905-42f6b9585169')\"\n",
              "                title=\"Suggest charts\"\n",
              "                style=\"display:none;\">\n",
              "\n",
              "<svg xmlns=\"http://www.w3.org/2000/svg\" height=\"24px\"viewBox=\"0 0 24 24\"\n",
              "     width=\"24px\">\n",
              "    <g>\n",
              "        <path d=\"M19 3H5c-1.1 0-2 .9-2 2v14c0 1.1.9 2 2 2h14c1.1 0 2-.9 2-2V5c0-1.1-.9-2-2-2zM9 17H7v-7h2v7zm4 0h-2V7h2v10zm4 0h-2v-4h2v4z\"/>\n",
              "    </g>\n",
              "</svg>\n",
              "      </button>\n",
              "\n",
              "<style>\n",
              "  .colab-df-quickchart {\n",
              "      --bg-color: #E8F0FE;\n",
              "      --fill-color: #1967D2;\n",
              "      --hover-bg-color: #E2EBFA;\n",
              "      --hover-fill-color: #174EA6;\n",
              "      --disabled-fill-color: #AAA;\n",
              "      --disabled-bg-color: #DDD;\n",
              "  }\n",
              "\n",
              "  [theme=dark] .colab-df-quickchart {\n",
              "      --bg-color: #3B4455;\n",
              "      --fill-color: #D2E3FC;\n",
              "      --hover-bg-color: #434B5C;\n",
              "      --hover-fill-color: #FFFFFF;\n",
              "      --disabled-bg-color: #3B4455;\n",
              "      --disabled-fill-color: #666;\n",
              "  }\n",
              "\n",
              "  .colab-df-quickchart {\n",
              "    background-color: var(--bg-color);\n",
              "    border: none;\n",
              "    border-radius: 50%;\n",
              "    cursor: pointer;\n",
              "    display: none;\n",
              "    fill: var(--fill-color);\n",
              "    height: 32px;\n",
              "    padding: 0;\n",
              "    width: 32px;\n",
              "  }\n",
              "\n",
              "  .colab-df-quickchart:hover {\n",
              "    background-color: var(--hover-bg-color);\n",
              "    box-shadow: 0 1px 2px rgba(60, 64, 67, 0.3), 0 1px 3px 1px rgba(60, 64, 67, 0.15);\n",
              "    fill: var(--button-hover-fill-color);\n",
              "  }\n",
              "\n",
              "  .colab-df-quickchart-complete:disabled,\n",
              "  .colab-df-quickchart-complete:disabled:hover {\n",
              "    background-color: var(--disabled-bg-color);\n",
              "    fill: var(--disabled-fill-color);\n",
              "    box-shadow: none;\n",
              "  }\n",
              "\n",
              "  .colab-df-spinner {\n",
              "    border: 2px solid var(--fill-color);\n",
              "    border-color: transparent;\n",
              "    border-bottom-color: var(--fill-color);\n",
              "    animation:\n",
              "      spin 1s steps(1) infinite;\n",
              "  }\n",
              "\n",
              "  @keyframes spin {\n",
              "    0% {\n",
              "      border-color: transparent;\n",
              "      border-bottom-color: var(--fill-color);\n",
              "      border-left-color: var(--fill-color);\n",
              "    }\n",
              "    20% {\n",
              "      border-color: transparent;\n",
              "      border-left-color: var(--fill-color);\n",
              "      border-top-color: var(--fill-color);\n",
              "    }\n",
              "    30% {\n",
              "      border-color: transparent;\n",
              "      border-left-color: var(--fill-color);\n",
              "      border-top-color: var(--fill-color);\n",
              "      border-right-color: var(--fill-color);\n",
              "    }\n",
              "    40% {\n",
              "      border-color: transparent;\n",
              "      border-right-color: var(--fill-color);\n",
              "      border-top-color: var(--fill-color);\n",
              "    }\n",
              "    60% {\n",
              "      border-color: transparent;\n",
              "      border-right-color: var(--fill-color);\n",
              "    }\n",
              "    80% {\n",
              "      border-color: transparent;\n",
              "      border-right-color: var(--fill-color);\n",
              "      border-bottom-color: var(--fill-color);\n",
              "    }\n",
              "    90% {\n",
              "      border-color: transparent;\n",
              "      border-bottom-color: var(--fill-color);\n",
              "    }\n",
              "  }\n",
              "</style>\n",
              "\n",
              "      <script>\n",
              "        async function quickchart(key) {\n",
              "          const quickchartButtonEl =\n",
              "            document.querySelector('#' + key + ' button');\n",
              "          quickchartButtonEl.disabled = true;  // To prevent multiple clicks.\n",
              "          quickchartButtonEl.classList.add('colab-df-spinner');\n",
              "          try {\n",
              "            const charts = await google.colab.kernel.invokeFunction(\n",
              "                'suggestCharts', [key], {});\n",
              "          } catch (error) {\n",
              "            console.error('Error during call to suggestCharts:', error);\n",
              "          }\n",
              "          quickchartButtonEl.classList.remove('colab-df-spinner');\n",
              "          quickchartButtonEl.classList.add('colab-df-quickchart-complete');\n",
              "        }\n",
              "        (() => {\n",
              "          let quickchartButtonEl =\n",
              "            document.querySelector('#df-f80dd4b9-2257-4a54-b905-42f6b9585169 button');\n",
              "          quickchartButtonEl.style.display =\n",
              "            google.colab.kernel.accessAllowed ? 'block' : 'none';\n",
              "        })();\n",
              "      </script>\n",
              "    </div>\n",
              "\n",
              "    </div>\n",
              "  </div>\n"
            ],
            "application/vnd.google.colaboratory.intrinsic+json": {
              "type": "dataframe",
              "variable_name": "data",
              "summary": "{\n  \"name\": \"data\",\n  \"rows\": 25,\n  \"fields\": [\n    {\n      \"column\": \"Title\",\n      \"properties\": {\n        \"dtype\": \"string\",\n        \"num_unique_values\": 25,\n        \"samples\": [\n          \"Inception\",\n          \"The Lord of the Rings: The Fellowship of the Ring\",\n          \"Jaws\"\n        ],\n        \"semantic_type\": \"\",\n        \"description\": \"\"\n      }\n    },\n    {\n      \"column\": \"Rank\",\n      \"properties\": {\n        \"dtype\": \"string\",\n        \"num_unique_values\": 25,\n        \"samples\": [\n          \"9\",\n          \"17\",\n          \"1\"\n        ],\n        \"semantic_type\": \"\",\n        \"description\": \"\"\n      }\n    },\n    {\n      \"column\": \"Vote\",\n      \"properties\": {\n        \"dtype\": \"string\",\n        \"num_unique_values\": 21,\n        \"samples\": [\n          \"700K\",\n          \"2.2M\",\n          \"643K\"\n        ],\n        \"semantic_type\": \"\",\n        \"description\": \"\"\n      }\n    },\n    {\n      \"column\": \"Duration\",\n      \"properties\": {\n        \"dtype\": \"string\",\n        \"num_unique_values\": 23,\n        \"samples\": [\n          \"2h 58m\",\n          \"2h 31m\",\n          \"2h 4m\"\n        ],\n        \"semantic_type\": \"\",\n        \"description\": \"\"\n      }\n    },\n    {\n      \"column\": \"Release Year\",\n      \"properties\": {\n        \"dtype\": \"object\",\n        \"num_unique_values\": 20,\n        \"samples\": [\n          \"1975\",\n          \"2000\",\n          \"2019\"\n        ],\n        \"semantic_type\": \"\",\n        \"description\": \"\"\n      }\n    },\n    {\n      \"column\": \"PG Rating\",\n      \"properties\": {\n        \"dtype\": \"category\",\n        \"num_unique_values\": 3,\n        \"samples\": [\n          \"PG\",\n          \"R\",\n          \"PG-13\"\n        ],\n        \"semantic_type\": \"\",\n        \"description\": \"\"\n      }\n    },\n    {\n      \"column\": \"Metascore\",\n      \"properties\": {\n        \"dtype\": \"string\",\n        \"num_unique_values\": 19,\n        \"samples\": [\n          \"87\",\n          \"85\",\n          \"67\"\n        ],\n        \"semantic_type\": \"\",\n        \"description\": \"\"\n      }\n    },\n    {\n      \"column\": \"Description\",\n      \"properties\": {\n        \"dtype\": \"string\",\n        \"num_unique_values\": 25,\n        \"samples\": [\n          \"A thief who steals corporate secrets through the use of dream-sharing technology is given the inverse task of planting an idea into the mind of a C.E.O., but his tragic past may doom the project and his team to disaster.\",\n          \"A meek Hobbit from the Shire and eight companions set out on a journey to destroy the powerful One Ring and save Middle-earth from the Dark Lord Sauron.\",\n          \"When a massive killer shark unleashes chaos on a beach community off Long Island, it's up to the local police chief, a marine biologist, and an old seafarer to hunt the beast down.\"\n        ],\n        \"semantic_type\": \"\",\n        \"description\": \"\"\n      }\n    }\n  ]\n}"
            }
          },
          "metadata": {},
          "execution_count": 37
        }
      ]
    },
    {
      "cell_type": "code",
      "source": [
        "data.shape\n"
      ],
      "metadata": {
        "colab": {
          "base_uri": "https://localhost:8080/"
        },
        "id": "mGUTaWS-8T9z",
        "outputId": "529dd75d-0d96-4ab2-a71a-114e0299f0aa"
      },
      "execution_count": 38,
      "outputs": [
        {
          "output_type": "execute_result",
          "data": {
            "text/plain": [
              "(25, 8)"
            ]
          },
          "metadata": {},
          "execution_count": 38
        }
      ]
    },
    {
      "cell_type": "code",
      "source": [
        "# export as csv file\n",
        "data.to_csv('IMDB Top 25 Movies.csv', index = False)\n",
        "data.to_csv('IMDB Top 25 Movies.tsv', sep='\\t', index=False)\n",
        "data.to_excel('IMDB Top 25 Movies.xlsx', index=False)"
      ],
      "metadata": {
        "id": "XvbgGf8y9A9g"
      },
      "execution_count": 72,
      "outputs": []
    }
  ]
}