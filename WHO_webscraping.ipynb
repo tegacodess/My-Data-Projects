{
  "nbformat": 4,
  "nbformat_minor": 0,
  "metadata": {
    "colab": {
      "provenance": [],
      "authorship_tag": "ABX9TyNEwxI+MCOhckaPhQOCCLjv",
      "include_colab_link": true
    },
    "kernelspec": {
      "name": "python3",
      "display_name": "Python 3"
    },
    "language_info": {
      "name": "python"
    }
  },
  "cells": [
    {
      "cell_type": "markdown",
      "metadata": {
        "id": "view-in-github",
        "colab_type": "text"
      },
      "source": [
        "<a href=\"https://colab.research.google.com/github/tegacodess/My-Data-Projects/blob/main/WHO_webscraping.ipynb\" target=\"_parent\"><img src=\"https://colab.research.google.com/assets/colab-badge.svg\" alt=\"Open In Colab\"/></a>"
      ]
    },
    {
      "cell_type": "markdown",
      "source": [
        "# Scraping WHO Health Site\n",
        "\n",
        "This project is one of the activities in the Axia Africa Data Science (Cohort 8) learning program i'm currently undergoing.\n",
        "\n",
        "Site: [WHO Health Topics](https://www.who.int/health-topics/#A)\n",
        "\n",
        "### Objectives\n",
        "To obtain the:\n",
        "1. Health topics\n",
        "2. Link to each topic\n",
        "3. Overview of each topic\n",
        "4. Impact\n",
        "5. WHO response to each topic\n",
        "\n",
        "store obtained data in a dataframe, and there after export the dataframe into the CSV, TSV and Excel file formats.\n",
        "\n",
        "### Tools Used\n",
        "\n",
        "\n",
        "*   Python\n",
        "*   Pandas Library\n",
        "* Requests Library\n",
        "* BeautifulSoup Library\n",
        "\n",
        "\n",
        "\n",
        "\n",
        "\n",
        "\n"
      ],
      "metadata": {
        "id": "f3pmSdb-RNU_"
      }
    },
    {
      "cell_type": "code",
      "execution_count": null,
      "metadata": {
        "id": "ScAXZPjsJUlN"
      },
      "outputs": [],
      "source": [
        "# importing necessary libraries\n",
        "import pandas as pd\n",
        "from bs4 import BeautifulSoup\n",
        "import numpy as np\n",
        "import requests\n"
      ]
    },
    {
      "cell_type": "code",
      "source": [
        "# Storing the base url of the WHO health topic site, sending a get request and checking its response status code. 200 means successful.\n",
        "url = 'https://www.who.int/health-topics/#A'\n",
        "response= requests.get(url)\n",
        "response.status_code\n"
      ],
      "metadata": {
        "colab": {
          "base_uri": "https://localhost:8080/"
        },
        "id": "oSogScvJJnn_",
        "outputId": "e68cc262-3898-41f9-bb3d-ca76ba9b4831"
      },
      "execution_count": null,
      "outputs": [
        {
          "output_type": "execute_result",
          "data": {
            "text/plain": [
              "200"
            ]
          },
          "metadata": {},
          "execution_count": 3
        }
      ]
    },
    {
      "cell_type": "code",
      "source": [
        "# To parse the HTML content\n",
        "soup = BeautifulSoup(response.text, 'html.parser')"
      ],
      "metadata": {
        "id": "59VBxQRrK_Kq"
      },
      "execution_count": null,
      "outputs": []
    },
    {
      "cell_type": "markdown",
      "source": [
        "## Scrape Data\n",
        "\n",
        "To successfully do this, i would:\n",
        "* Find all the elements of each item in the checklist using its html tag and class name.\n",
        "* Store scraped data in a list\n",
        "* Convert to a dataframe."
      ],
      "metadata": {
        "id": "OhJ4nHADX2Rc"
      }
    },
    {
      "cell_type": "markdown",
      "source": [
        "### ▶ Get Health Topics and Link to Each Topic"
      ],
      "metadata": {
        "id": "vbQliFynLdMb"
      }
    },
    {
      "cell_type": "code",
      "source": [
        "health_topic = soup.find_all('p', class_ = 'heading text-underline')"
      ],
      "metadata": {
        "id": "bf_1CntzLg6B",
        "collapsed": true
      },
      "execution_count": null,
      "outputs": []
    },
    {
      "cell_type": "code",
      "source": [
        "topic = []\n",
        "# this for loop iterates over the scraped data, gets the text and stores it in a list\n",
        "for health in health_topic:\n",
        "  new_topic = health.get_text()\n",
        "  topic.append(new_topic)\n",
        "\n"
      ],
      "metadata": {
        "collapsed": true,
        "id": "iP7Wv1fVNQ1P"
      },
      "execution_count": null,
      "outputs": []
    },
    {
      "cell_type": "code",
      "source": [
        "# locate the topic and the link\n",
        "\n",
        "topic_nl = []\n",
        "\n",
        "for tag in soup.find_all('a', class_= 'link-container table'):\n",
        "  topic_name = tag.find('p', class_='heading text-underline').get_text()\n",
        "  topic_link = tag['href']\n",
        "  topic_nl.append({\n",
        "      'Topic Name': topic_name,\n",
        "      'Topic Link': topic_link\n",
        "  }\n",
        "  )\n",
        "\n",
        "# to check that it works\n",
        "topic_nl[0::5]"
      ],
      "metadata": {
        "colab": {
          "base_uri": "https://localhost:8080/"
        },
        "id": "p-0rMmr8TXdl",
        "outputId": "4db108d3-31db-442b-eb20-97e44d652647"
      },
      "execution_count": null,
      "outputs": [
        {
          "output_type": "execute_result",
          "data": {
            "text/plain": [
              "[{'Topic Name': 'Abortion',\n",
              "  'Topic Link': 'https://www.who.int/health-topics/abortion'},\n",
              " {'Topic Name': 'Ageism',\n",
              "  'Topic Link': 'https://www.who.int/health-topics/ageism'},\n",
              " {'Topic Name': 'Assistive technology',\n",
              "  'Topic Link': 'https://www.who.int/health-topics/assistive-technology'},\n",
              " {'Topic Name': 'Brain health',\n",
              "  'Topic Link': 'https://www.who.int/health-topics/brain-health'},\n",
              " {'Topic Name': 'Cervical cancer',\n",
              "  'Topic Link': 'https://www.who.int/health-topics/cervical-cancer'},\n",
              " {'Topic Name': 'Child growth',\n",
              "  'Topic Link': 'https://www.who.int/health-topics/child-growth'},\n",
              " {'Topic Name': 'Chronic respiratory diseases',\n",
              "  'Topic Link': 'https://www.who.int/health-topics/chronic-respiratory-diseases'},\n",
              " {'Topic Name': 'Complementary feeding',\n",
              "  'Topic Link': 'https://www.who.int/health-topics/complementary-feeding'},\n",
              " {'Topic Name': 'Deafness and hearing loss',\n",
              "  'Topic Link': 'https://www.who.int/health-topics/hearing-loss'},\n",
              " {'Topic Name': 'Diabetes',\n",
              "  'Topic Link': 'https://www.who.int/health-topics/diabetes'},\n",
              " {'Topic Name': 'Disability',\n",
              "  'Topic Link': 'https://www.who.int/health-topics/disability'},\n",
              " {'Topic Name': 'Earthquakes',\n",
              "  'Topic Link': 'https://www.who.int/health-topics/earthquakes'},\n",
              " {'Topic Name': 'Energy and health',\n",
              "  'Topic Link': 'https://www.who.int/health-topics/energy-and-health'},\n",
              " {'Topic Name': 'Financial protection',\n",
              "  'Topic Link': 'https://www.who.int/health-topics/financial-protection'},\n",
              " {'Topic Name': 'Foodborne trematode infections',\n",
              "  'Topic Link': 'https://www.who.int/health-topics/foodborne-trematode-infections'},\n",
              " {'Topic Name': 'Health budget',\n",
              "  'Topic Link': 'https://www.who.int/health-topics/health-budget'},\n",
              " {'Topic Name': 'Health Laws',\n",
              "  'Topic Link': 'https://www.who.int/health-topics/health-laws'},\n",
              " {'Topic Name': 'Health taxes',\n",
              "  'Topic Link': 'https://www.who.int/health-topics/health-taxes'},\n",
              " {'Topic Name': 'Hendra virus infection',\n",
              "  'Topic Link': 'https://www.who.int/health-topics/hendra-virus-infection'},\n",
              " {'Topic Name': 'Human genome editing',\n",
              "  'Topic Link': 'https://www.who.int/health-topics/human-genome-editing'},\n",
              " {'Topic Name': 'Infection prevention and control',\n",
              "  'Topic Link': 'https://www.who.int/health-topics/infection-prevention-and-control'},\n",
              " {'Topic Name': 'Intellectual property and trade',\n",
              "  'Topic Link': 'https://www.who.int/health-topics/intellectual-property'},\n",
              " {'Topic Name': 'Leishmaniasis',\n",
              "  'Topic Link': 'https://www.who.int/health-topics/leishmaniasis'},\n",
              " {'Topic Name': 'Marburg virus disease',\n",
              "  'Topic Link': 'https://www.who.int/health-topics/marburg-virus-disease'},\n",
              " {'Topic Name': 'Meningitis',\n",
              "  'Topic Link': 'https://www.who.int/health-topics/meningitis'},\n",
              " {'Topic Name': 'Mycetoma, chromoblastomycosis and other deep mycoses',\n",
              "  'Topic Link': 'https://www.who.int/health-topics/mycetoma-chromoblastomycosis-and-other-deep-mycoses'},\n",
              " {'Topic Name': 'Nursing and midwifery',\n",
              "  'Topic Link': 'https://www.who.int/health-topics/nursing'},\n",
              " {'Topic Name': 'One Health',\n",
              "  'Topic Link': 'https://www.who.int/health-topics/one-health'},\n",
              " {'Topic Name': 'Pertussis',\n",
              "  'Topic Link': 'https://www.who.int/health-topics/pertussis'},\n",
              " {'Topic Name': 'Primary health care',\n",
              "  'Topic Link': 'https://www.who.int/health-topics/primary-health-care'},\n",
              " {'Topic Name': 'Radon',\n",
              "  'Topic Link': 'https://www.who.int/health-topics/radon'},\n",
              " {'Topic Name': 'Rift Valley fever',\n",
              "  'Topic Link': 'https://www.who.int/health-topics/rift-valley-fever'},\n",
              " {'Topic Name': 'Sepsis',\n",
              "  'Topic Link': 'https://www.who.int/health-topics/sepsis'},\n",
              " {'Topic Name': 'Smallpox',\n",
              "  'Topic Link': 'https://www.who.int/health-topics/smallpox'},\n",
              " {'Topic Name': 'Substandard and falsified medical products',\n",
              "  'Topic Link': 'https://www.who.int/health-topics/substandard-and-falsified-medical-products'},\n",
              " {'Topic Name': 'Tetanus',\n",
              "  'Topic Link': 'https://www.who.int/health-topics/tetanus'},\n",
              " {'Topic Name': 'Transplantation',\n",
              "  'Topic Link': 'https://www.who.int/health-topics/transplantation'},\n",
              " {'Topic Name': 'Typhoid',\n",
              "  'Topic Link': 'https://www.who.int/health-topics/typhoid'},\n",
              " {'Topic Name': 'Violence against children',\n",
              "  'Topic Link': 'https://www.who.int/health-topics/violence-against-children'},\n",
              " {'Topic Name': \"Women's health\",\n",
              "  'Topic Link': 'https://www.who.int/health-topics/women-s-health'}]"
            ]
          },
          "metadata": {},
          "execution_count": 7
        }
      ]
    },
    {
      "cell_type": "code",
      "source": [
        "# Convert to a dataframe\n",
        "data = pd.DataFrame(topic_nl)\n"
      ],
      "metadata": {
        "id": "qTAa1-hEfY1-"
      },
      "execution_count": null,
      "outputs": []
    },
    {
      "cell_type": "markdown",
      "source": [
        "### ▶ Get Overview, Impact and WHO Response\n",
        "\n",
        "This will be obtained by:\n",
        "1. Using a for loop to iterate over the topic_nl list\n",
        "2. Sending a get request to each url (items in the link) to fetch the data\n",
        "3. Parsing the obtained html content\n",
        "4. Implementing a logic that segments the contents into overview, impact and WHO response\n"
      ],
      "metadata": {
        "id": "Nm9UKWlfEUN9"
      }
    },
    {
      "cell_type": "code",
      "source": [
        "# Initial attempt\n",
        "url = 'https://www.who.int/health-topics/tetanus'\n",
        "response = requests.get(url)\n",
        "response.status_code"
      ],
      "metadata": {
        "colab": {
          "base_uri": "https://localhost:8080/"
        },
        "id": "16FPTljsEHnJ",
        "outputId": "249e3034-a75f-4836-e8ec-50e771197338"
      },
      "execution_count": null,
      "outputs": [
        {
          "output_type": "execute_result",
          "data": {
            "text/plain": [
              "200"
            ]
          },
          "metadata": {},
          "execution_count": 9
        }
      ]
    },
    {
      "cell_type": "code",
      "source": [
        "soup = BeautifulSoup(response.text, 'html.parser')"
      ],
      "metadata": {
        "id": "hUPKo_SDEx07"
      },
      "execution_count": null,
      "outputs": []
    },
    {
      "cell_type": "code",
      "source": [
        "# <div class=\"sf_colsOut tabContent\" data-sf-element=\"Tab contents\" data-placeholder-label=\"Tab contents\">\n",
        "#                 <div class=\"sf_colsIn\">\n",
        "#                     <p>WHO defines health as a state of complete physical, mental and social well-being, and not merely the absence of disease or infirmity. Making health for all a reality, and moving towards the progressive realization of human rights, requires that all individuals have access to quality health care, including comprehensive abortion care services – which includes information, management of abortion, and post-abortion care. Lack of access to safe, timely, affordable and respectful abortion care poses a risk to not only the physical, but also the mental and social, well-being of women and girls.</p><p>Induced abortion is a simple and common health-care procedure. Each year, almost half of all pregnancies – 121 million – are unintended; 6 out of 10 unintended pregnancies and 3 out of 10 of all pregnancies end in induced abortion. Abortion is safe when carried out using a method recommended by WHO, appropriate to the pregnancy duration and by someone with the necessary skills. However, when women with unwanted pregnancies face barriers to obtaining quality abortion, they often resort to unsafe abortion.</p><p>Ensuring that women and girls have access to abortion care that is evidence-based – which includes being safe, respectful and non-discriminatory – is fundamental to meeting the Sustainable Development Goals (SDGs) relating to good health and well-being (SDG3) and gender equality (SDG5).</p>\n",
        "#                 </div>\n",
        "#             </div>"
      ],
      "metadata": {
        "id": "RiryEUCnGbdB"
      },
      "execution_count": null,
      "outputs": []
    },
    {
      "cell_type": "code",
      "source": [
        "content = soup.find('div', class_='sf_colsOut tabContent')\n",
        "content"
      ],
      "metadata": {
        "colab": {
          "base_uri": "https://localhost:8080/"
        },
        "id": "3xAA50SKGlcR",
        "outputId": "b139f78f-d48f-41d8-f62d-b25a97d21a70"
      },
      "execution_count": null,
      "outputs": [
        {
          "output_type": "execute_result",
          "data": {
            "text/plain": [
              "<div class=\"sf_colsOut tabContent\" data-placeholder-label=\"Tab contents\" data-sf-element=\"Tab contents\">\n",
              "<div class=\"sf_colsIn\">\n",
              "<p>Tetanus is a serious illness contracted through exposure to the spores of the bacterium, <em>Clostridium tetani</em>, which live in soil, saliva, dust and manure. The bacteria can enter the body through a deep cuts, wounds or burns affecting the nervous system. The infection leads to painful muscle contractions, particularly of the jaw and neck muscle, and is commonly known as “lockjaw”.<span style=\"background-color:transparent;text-align:inherit;text-transform:inherit;white-space:inherit;word-spacing:normal;caret-color:auto;\"> </span></p><p>People of all ages can get tetanus but the disease is particularly common and serious in newborn babies and their mothers when the mother is unprotected from tetanus by the vaccine, tetanus toxoid. Tetanus occurring during pregnancy or within 6 weeks of the end of pregnancy is called maternal tetanus, while tetanus occurring within the first 28 days of life is called neonatal tetanus. </p><p>The disease remains an important public health problem in many parts of the world, but especially in low-income countries or districts, where immunization coverage is low and unclean birth practices are common. WHO estimates that in 2018 (the latest year for which estimates are available), 25 000 newborns died from neonatal tetanus, 88% reduction from the situation in 2000.</p>\n",
              "</div>\n",
              "</div>"
            ]
          },
          "metadata": {},
          "execution_count": 12
        }
      ]
    },
    {
      "cell_type": "code",
      "source": [
        "content = content.get_text(strip = True)\n",
        "content"
      ],
      "metadata": {
        "colab": {
          "base_uri": "https://localhost:8080/",
          "height": 253
        },
        "id": "zR1z6xc5G45Z",
        "outputId": "13ca7e58-f0b8-46f1-f7b5-e361c2487177"
      },
      "execution_count": null,
      "outputs": [
        {
          "output_type": "execute_result",
          "data": {
            "text/plain": [
              "'Tetanus is a serious illness contracted through exposure to the spores of the bacterium,Clostridium tetani, which live in soil, saliva, dust and manure. The bacteria can enter the body through a deep cuts, wounds or burns affecting the nervous system. The infection leads to painful muscle contractions, particularly of the jaw and neck muscle, and is commonly known as “lockjaw”.People of all ages can get tetanus but the disease is particularly common and serious in newborn babies and their mothers when the mother is unprotected from tetanus by the vaccine, tetanus toxoid. Tetanus occurring during pregnancy or within 6 weeks of the end of pregnancy is called maternal tetanus, while tetanus occurring within the first 28 days of life is called neonatal tetanus.The disease remains an important public health problem in many parts of the world, but especially in low-income countries or districts, where immunization coverage is low and unclean birth practices are common. WHO estimates that in 2018 (the latest year for which estimates are available), 25 000 newborns died from neonatal tetanus, 88% reduction from the situation in 2000.'"
            ],
            "application/vnd.google.colaboratory.intrinsic+json": {
              "type": "string"
            }
          },
          "metadata": {},
          "execution_count": 13
        }
      ]
    },
    {
      "cell_type": "code",
      "source": [
        "# This fetches the overview, the impact and WHO response in 3 divs\n",
        "contents = soup.find_all('div', class_='sf_colsOut tabContent')\n",
        "contents"
      ],
      "metadata": {
        "colab": {
          "base_uri": "https://localhost:8080/"
        },
        "id": "9q5EOLTSIb1D",
        "outputId": "7e619b89-b9be-47c2-de10-bf9d6b794885"
      },
      "execution_count": null,
      "outputs": [
        {
          "output_type": "execute_result",
          "data": {
            "text/plain": [
              "[<div class=\"sf_colsOut tabContent\" data-placeholder-label=\"Tab contents\" data-sf-element=\"Tab contents\">\n",
              " <div class=\"sf_colsIn\">\n",
              " <p>Tetanus is a serious illness contracted through exposure to the spores of the bacterium, <em>Clostridium tetani</em>, which live in soil, saliva, dust and manure. The bacteria can enter the body through a deep cuts, wounds or burns affecting the nervous system. The infection leads to painful muscle contractions, particularly of the jaw and neck muscle, and is commonly known as “lockjaw”.<span style=\"background-color:transparent;text-align:inherit;text-transform:inherit;white-space:inherit;word-spacing:normal;caret-color:auto;\"> </span></p><p>People of all ages can get tetanus but the disease is particularly common and serious in newborn babies and their mothers when the mother is unprotected from tetanus by the vaccine, tetanus toxoid. Tetanus occurring during pregnancy or within 6 weeks of the end of pregnancy is called maternal tetanus, while tetanus occurring within the first 28 days of life is called neonatal tetanus. </p><p>The disease remains an important public health problem in many parts of the world, but especially in low-income countries or districts, where immunization coverage is low and unclean birth practices are common. WHO estimates that in 2018 (the latest year for which estimates are available), 25 000 newborns died from neonatal tetanus, 88% reduction from the situation in 2000.</p>\n",
              " </div>\n",
              " </div>,\n",
              " <div class=\"sf_colsOut tabContent\" data-placeholder-label=\"Tab contents\" data-sf-element=\"Tab contents\">\n",
              " <div class=\"sf_colsIn\">\n",
              " <p>Nearly all cases of tetanus occur in people who have never been vaccinated or in adults who have not kept up to date on their booster shots.<span style=\"background-color:transparent;text-align:inherit;text-transform:inherit;white-space:inherit;word-spacing:normal;caret-color:auto;\"> </span></p><p>Signs and symptoms of tetanus appear anytime from 3 to 21 days after tetanus bacteria enter the body through a wound. Most cases occur within 14 days.</p><p>Symptoms can include:</p><ul><li>jaw cramping or the inability to open the mouth</li><li>muscle spasms often in the back, abdomen and extremities</li><li>sudden painful muscle spasms often triggered by sudden noises</li><li>trouble swallowing</li><li>seizures</li><li>headache</li><li>fever and sweating</li><li>changes in blood pressure or fast heart rate. </li></ul><p>In neonatal tetanus, symptoms include muscle spasms, which are often preceded by the newborn’s inability to suck or breastfeed, and excessive crying.<span style=\"background-color:transparent;text-align:inherit;text-transform:inherit;white-space:inherit;word-spacing:normal;caret-color:auto;\"> </span></p>Tetanus is diagnosed on the basis of clinical features and does not require laboratory confirmation. Tetanus requires treatment in a medical facility, often in a referral hospital. People who recover from tetanus do not have natural immunity and can be infected again and therefore need to be immunized.<span style=\"background-color:transparent;color:#3c4245;font-family:'Noto Sans', Arial, Helvetica, sans-serif;font-size:16px;text-align:inherit;text-transform:inherit;word-spacing:normal;caret-color:auto;white-space:inherit;\"></span>\n",
              " </div>\n",
              " </div>,\n",
              " <div class=\"sf_colsOut tabContent\" data-placeholder-label=\"Tab contents\" data-sf-element=\"Tab contents\">\n",
              " <div class=\"sf_colsIn\">\n",
              " <p>Tetanus can be prevented through immunization with tetanus-toxoid-containing vaccines (TTCV), which are included in routine immunization programmes globally and administered during antenatal care contacts. </p><p>To be protected throughout life, WHO recommends that an individual receives 6 doses (3 primary plus 3 booster doses) of TTCV. The 3-dose primary series should begin as early as 6 weeks of age, with subsequent doses given with a minimum interval of 4 weeks between doses.<span style=\"background-color:transparent;text-align:inherit;text-transform:inherit;white-space:inherit;word-spacing:normal;caret-color:auto;\"> </span></p><p>The 3 booster doses should preferably be given during the second year of life (12–23 months), at 4–7 years of age, and at 9–15 years of age. Ideally, there should be at least 4 years between booster doses. </p><p>There are many kinds of vaccines used to protect against tetanus: </p><ul><li>diphtheria and tetanus (DT) vaccines</li><li>diphtheria, tetanus, and pertussis (whooping cough) (DTaP) vaccines</li><li>tetanus and diphtheria (Td) vaccines</li><li>tetanus, diphtheria, and pertussis (Tdap) vaccines. <br/></li></ul><p>Neonatal tetanus can be prevented by immunizing women of reproductive age with TTCV, either during pregnancy or outside of pregnancy. Additionally, robust medical practices can also prevent tetanus disease including clean delivery and cord care during childbirth, and proper wound care for surgical and dental procedures.<o:p></o:p></p>\n",
              " </div>\n",
              " </div>]"
            ]
          },
          "metadata": {},
          "execution_count": 14
        }
      ]
    },
    {
      "cell_type": "code",
      "source": [
        "# to extract only the text content and append it to a list\n",
        "full_content = []\n",
        "\n",
        "for content in contents:\n",
        "  clean_text = content.get_text(strip=True)\n",
        "  full_content.append(clean_text)\n"
      ],
      "metadata": {
        "id": "599Pu-WAJG0S"
      },
      "execution_count": null,
      "outputs": []
    },
    {
      "cell_type": "code",
      "source": [
        "#add heading\n",
        "headings ={\n",
        "    'Overview':full_content[0],\n",
        "    'Impact':full_content[1],\n",
        "    'Abortion Care':full_content[2]\n",
        "}\n"
      ],
      "metadata": {
        "id": "3txmtXhRJqA2"
      },
      "execution_count": null,
      "outputs": []
    },
    {
      "cell_type": "markdown",
      "source": [
        "## Refactor and Combine Everything"
      ],
      "metadata": {
        "id": "FMnmPljkP1Bf"
      }
    },
    {
      "cell_type": "code",
      "source": [
        "url = 'https://www.who.int/health-topics'\n",
        "\n",
        "response = requests.get(url)\n",
        "soup = BeautifulSoup(response.text, 'html.parser')\n",
        "\n",
        "# locate the topic and the link\n",
        "topic_nl = []\n",
        "\n",
        "for tag in soup.find_all('a', class_= 'link-container table'):\n",
        "  topic_name = tag.find('p', class_='heading text-underline').get_text()\n",
        "  topic_link = tag['href']\n",
        "  topic_nl.append({\n",
        "      'Name': topic_name,\n",
        "      'Link': topic_link\n",
        "  })\n",
        "\n",
        "# collect data for each topic and link\n",
        "data =[]\n",
        "\n",
        "for topic in topic_nl:\n",
        "  print(f\"Scraping content for:{topic['Name']}\")\n",
        "\n",
        "  # fetch the topic page through the link\n",
        "  link = topic['Link']\n",
        "  topic_response = requests.get(link)\n",
        "  soup = BeautifulSoup(topic_response.text, 'html.parser')\n",
        "\n",
        "  # locate the tags for the content (overview, impact, and WHO response)\n",
        "  contents = soup.find_all('div',  class_='sf_colsOut tabContent')\n",
        "  full_content = []\n",
        "\n",
        "  for content in contents:\n",
        "      clean_text = content.get_text(strip=True)\n",
        "      full_content.append(clean_text)\n",
        "\n",
        "\n",
        "  # create a heading\n",
        "  headings ={\n",
        "    'Overview':'N/A',\n",
        "    'Impact':'N/A',\n",
        "    'WHO Response':'N/A'\n",
        "   }\n",
        "\n",
        "  # organize the contents into the respective headings\n",
        "  if len(full_content)>0:\n",
        "    headings ['Overview'] = full_content[0]\n",
        "  if len(full_content) > 1:\n",
        "    headings ['Impact'] = full_content[1]\n",
        "  if len(full_content) > 2:\n",
        "    headings ['Response'] = full_content[2]\n",
        "\n",
        "    # Append data\n",
        "    data.append({\n",
        "       \"Health Topics\": topic['Name'],\n",
        "       \"Links\": topic['Link'],\n",
        "       \"Overview\":headings['Overview'],\n",
        "       \"Impacts\": headings['Impact'],\n",
        "       \"WHO Response\": headings['Response']\n",
        "    })\n",
        "\n",
        "# convert to data\n",
        "df = pd.DataFrame(data)\n"
      ],
      "metadata": {
        "id": "WQEKbHCzK7Cc",
        "colab": {
          "base_uri": "https://localhost:8080/"
        },
        "outputId": "5aad41e7-7d82-4c4f-b063-d2bf5e20bc29",
        "collapsed": true
      },
      "execution_count": null,
      "outputs": [
        {
          "output_type": "stream",
          "name": "stdout",
          "text": [
            "Scraping content for:Abortion\n",
            "Scraping content for:Abuse of older people\n",
            "Scraping content for:Addictive behaviour\n",
            "Scraping content for:Adolescent health\n",
            "Scraping content for:Ageing\n",
            "Scraping content for:Ageism\n",
            "Scraping content for:Air pollution\n",
            "Scraping content for:Alcohol\n",
            "Scraping content for:Anaemia\n",
            "Scraping content for:Antimicrobial resistance\n",
            "Scraping content for:Assistive technology\n",
            "Scraping content for:Biological weapons\n",
            "Scraping content for:Biologicals\n",
            "Scraping content for:Blood products\n",
            "Scraping content for:Blood transfusion safety\n",
            "Scraping content for:Brain health\n",
            "Scraping content for:Breastfeeding\n",
            "Scraping content for:Buruli ulcer  (Mycobacterium ulcerans infection)\n",
            "Scraping content for:Cancer\n",
            "Scraping content for:Cardiovascular diseases\n",
            "Scraping content for:Cervical cancer\n",
            "Scraping content for:Chagas disease (American trypanosomiasis)\n",
            "Scraping content for:Chemical incidents\n",
            "Scraping content for:Chemical safety\n",
            "Scraping content for:Chikungunya\n",
            "Scraping content for:Child growth\n",
            "Scraping content for:Child health\n",
            "Scraping content for:Childhood cancer\n",
            "Scraping content for:Children's environmental health\n",
            "Scraping content for:Cholera\n",
            "Scraping content for:Chronic respiratory diseases\n",
            "Scraping content for:Climate change\n",
            "Scraping content for:Clinical trials\n",
            "Scraping content for:Commercial determinants of health\n",
            "Scraping content for:Common goods for health\n",
            "Scraping content for:Complementary feeding\n",
            "Scraping content for:Congenital disorders\n",
            "Scraping content for:Contraception\n",
            "Scraping content for:Coronavirus disease (COVID-19)\n",
            "Scraping content for:Crimean-Congo haemorrhagic fever\n",
            "Scraping content for:Deafness and hearing loss\n",
            "Scraping content for:Deliberate events\n",
            "Scraping content for:Dementia\n",
            "Scraping content for:Dengue and severe dengue\n",
            "Scraping content for:Depression\n",
            "Scraping content for:Diabetes\n",
            "Scraping content for:Diagnostics\n",
            "Scraping content for:Diarrhoea\n",
            "Scraping content for:Digital health\n",
            "Scraping content for:Diphtheria\n",
            "Scraping content for:Disability\n",
            "Scraping content for:Dracunculiasis (Guinea-worm disease)\n",
            "Scraping content for:Drought\n",
            "Scraping content for:Drowning\n",
            "Scraping content for:Drugs (psychoactive)\n",
            "Scraping content for:Earthquakes\n",
            "Scraping content for:Ebola virus disease\n",
            "Scraping content for:Echinococcosis\n",
            "Scraping content for:Electromagnetic fields\n",
            "Scraping content for:Emergency and critical care\n",
            "Scraping content for:Energy and health\n",
            "Scraping content for:Environmental health\n",
            "Scraping content for:Epilepsy\n",
            "Scraping content for:Eye care, vision impairment and blindness\n",
            "Scraping content for:Female genital mutilation\n",
            "Scraping content for:Financial protection\n",
            "Scraping content for:Floods\n",
            "Scraping content for:Food fortification\n",
            "Scraping content for:Food safety\n",
            "Scraping content for:Foodborne diseases\n",
            "Scraping content for:Foodborne trematode infections\n",
            "Scraping content for:Gender and health\n",
            "Scraping content for:Genomics\n",
            "Scraping content for:Global health ethics\n",
            "Scraping content for:Health accounts\n",
            "Scraping content for:Health budget\n",
            "Scraping content for:Health economics\n",
            "Scraping content for:Health equity\n",
            "Scraping content for:Health financing\n",
            "Scraping content for:Health impact assessment\n",
            "Scraping content for:Health Laws\n",
            "Scraping content for:Health promoting schools\n",
            "Scraping content for:Health promotion\n",
            "Scraping content for:Health security\n",
            "Scraping content for:Health systems governance\n",
            "Scraping content for:Health taxes\n",
            "Scraping content for:Health technology assessment\n",
            "Scraping content for:Health workforce\n",
            "Scraping content for:Healthy diet\n",
            "Scraping content for:Heatwaves\n",
            "Scraping content for:Hendra virus infection\n",
            "Scraping content for:Hepatitis\n",
            "Scraping content for:HIV\n",
            "Scraping content for:Hospitals\n",
            "Scraping content for:Human African trypanosomiasis (sleeping sickness)\n",
            "Scraping content for:Human genome editing\n",
            "Scraping content for:Human rights\n",
            "Scraping content for:Hypertension\n",
            "Scraping content for:In vitro diagnostics\n",
            "Scraping content for:Infant nutrition\n",
            "Scraping content for:Infection prevention and control\n",
            "Scraping content for:Infertility\n",
            "Scraping content for:Influenza (avian and other zoonotic)\n",
            "Scraping content for:Influenza (seasonal)\n",
            "Scraping content for:Infodemic\n",
            "Scraping content for:Intellectual property and trade\n",
            "Scraping content for:International Health Regulations\n",
            "Scraping content for:Landslides\n",
            "Scraping content for:Lassa fever\n",
            "Scraping content for:Lead poisoning\n",
            "Scraping content for:Leishmaniasis\n",
            "Scraping content for:Leprosy (Hansen disease)\n",
            "Scraping content for:Lymphatic filariasis (Elephantiasis)\n",
            "Scraping content for:Malaria\n",
            "Scraping content for:Malnutrition\n",
            "Scraping content for:Marburg virus disease\n",
            "Scraping content for:Maternal health\n",
            "Scraping content for:Measles\n",
            "Scraping content for:Medical devices\n",
            "Scraping content for:Medicines\n",
            "Scraping content for:Meningitis\n",
            "Scraping content for:Mental health\n",
            "Scraping content for:Micronutrients\n",
            "Scraping content for:Middle East respiratory syndrome coronavirus (MERS-CoV)\n",
            "Scraping content for:Mpox\n",
            "Scraping content for:Mycetoma, chromoblastomycosis and other deep mycoses\n",
            "Scraping content for:Neglected tropical diseases\n",
            "Scraping content for:Newborn health\n",
            "Scraping content for:Nipah virus infection\n",
            "Scraping content for:Noncommunicable diseases\n",
            "Scraping content for:Nursing and midwifery\n",
            "Scraping content for:Nutrition\n",
            "Scraping content for:Obesity\n",
            "Scraping content for:Occupational health\n",
            "Scraping content for:Onchocerciasis (river blindness)\n",
            "Scraping content for:One Health\n",
            "Scraping content for:Oral health\n",
            "Scraping content for:Oxygen\n",
            "Scraping content for:Palliative care\n",
            "Scraping content for:Patient safety\n",
            "Scraping content for:Pertussis\n",
            "Scraping content for:Physical activity\n",
            "Scraping content for:Plague\n",
            "Scraping content for:Pneumonia\n",
            "Scraping content for:Poliomyelitis (polio)\n",
            "Scraping content for:Primary health care\n",
            "Scraping content for:Quality of care\n",
            "Scraping content for:Rabies\n",
            "Scraping content for:Radiation\n",
            "Scraping content for:Radiation emergencies\n",
            "Scraping content for:Radon\n",
            "Scraping content for:Refugee and migrant health\n",
            "Scraping content for:Rehabilitation\n",
            "Scraping content for:Research\n",
            "Scraping content for:Respiratory syncytial virus\n",
            "Scraping content for:Rift Valley fever\n",
            "Scraping content for:Road traffic injuries\n",
            "Scraping content for:Scabies\n",
            "Scraping content for:Schistosomiasis (Bilharzia)\n",
            "Scraping content for:Self-care for health and well-being\n",
            "Scraping content for:Sepsis\n",
            "Scraping content for:Severe Acute Respiratory Syndrome (SARS)\n",
            "Scraping content for:Sexual and reproductive health and rights\n",
            "Scraping content for:Sexual health\n",
            "Scraping content for:Sexually transmitted infections (STIs)\n",
            "Scraping content for:Smallpox\n",
            "Scraping content for:Snakebite envenoming\n",
            "Scraping content for:Social determinants of health\n",
            "Scraping content for:Soil-transmitted helminthiases\n",
            "Scraping content for:Stillbirth\n",
            "Scraping content for:Substandard and falsified medical products\n",
            "Scraping content for:Suicide prevention\n",
            "Scraping content for:Sustainable development\n",
            "Scraping content for:Syphilis\n",
            "Scraping content for:Taeniasis and cysticercosis\n",
            "Scraping content for:Tetanus\n",
            "Scraping content for:Tick-borne encephalitis\n",
            "Scraping content for:Tobacco\n",
            "Scraping content for:Trachoma\n",
            "Scraping content for:Traditional, Complementary and Integrative Medicine\n",
            "Scraping content for:Transplantation\n",
            "Scraping content for:Travel and health\n",
            "Scraping content for:Tropical Cyclones\n",
            "Scraping content for:Tsunamis\n",
            "Scraping content for:Tuberculosis\n",
            "Scraping content for:Typhoid\n",
            "Scraping content for:Ultraviolet radiation\n",
            "Scraping content for:Universal health coverage\n",
            "Scraping content for:Urban health\n",
            "Scraping content for:Vaccines and immunization\n",
            "Scraping content for:Violence against children\n",
            "Scraping content for:Violence against women\n",
            "Scraping content for:Volcanic eruptions\n",
            "Scraping content for:Water, sanitation and hygiene (WASH)\n",
            "Scraping content for:Wildfires\n",
            "Scraping content for:Women's health\n",
            "Scraping content for:Yaws (Endemic treponematoses)\n",
            "Scraping content for:Yellow fever\n",
            "Scraping content for:Zika virus disease\n"
          ]
        }
      ]
    },
    {
      "cell_type": "code",
      "source": [
        "df.head()"
      ],
      "metadata": {
        "colab": {
          "base_uri": "https://localhost:8080/",
          "height": 605
        },
        "id": "_dYLvZaCbe4c",
        "outputId": "8d17b869-9132-4e83-ce60-b6403b36c6d6"
      },
      "execution_count": null,
      "outputs": [
        {
          "output_type": "execute_result",
          "data": {
            "text/plain": [
              "           Health Topics                                              Links  \\\n",
              "0               Abortion         https://www.who.int/health-topics/abortion   \n",
              "1  Abuse of older people  https://www.who.int/health-topics/abuse-of-old...   \n",
              "2    Addictive behaviour  https://www.who.int/health-topics/addictive-be...   \n",
              "3      Adolescent health  https://www.who.int/health-topics/adolescent-h...   \n",
              "4                 Ageing           https://www.who.int/health-topics/ageing   \n",
              "\n",
              "                                            Overview  \\\n",
              "0  WHO defines health as a state of complete phys...   \n",
              "1  The abuse of older people, also known as elder...   \n",
              "2  Many people around the world are engaged in (v...   \n",
              "3  Adolescence is the phase of life between child...   \n",
              "4  Every person – in every country in the world –...   \n",
              "\n",
              "                                             Impacts  \\\n",
              "0  Restricting access to abortion does not reduce...   \n",
              "1  Many strategies have been implemented to preve...   \n",
              "2  Use of the Internet, computers, smartphones an...   \n",
              "3  There are more adolescents in the world than e...   \n",
              "4  Ageing presents both challenges and opportunit...   \n",
              "\n",
              "                                        WHO Response  \n",
              "0  Abortion can be safely and effectively perform...  \n",
              "1  On 15 June 2022, World Elder Abuse Awareness D...  \n",
              "2  Disorders due to addictive behaviours are reco...  \n",
              "3  WHO supports countries to ensure that their na...  \n",
              "4  WHO works with Member States, UN agencies and ...  "
            ],
            "text/html": [
              "\n",
              "  <div id=\"df-9c78fac7-13ef-4228-9506-4c54ed10063a\" class=\"colab-df-container\">\n",
              "    <div>\n",
              "<style scoped>\n",
              "    .dataframe tbody tr th:only-of-type {\n",
              "        vertical-align: middle;\n",
              "    }\n",
              "\n",
              "    .dataframe tbody tr th {\n",
              "        vertical-align: top;\n",
              "    }\n",
              "\n",
              "    .dataframe thead th {\n",
              "        text-align: right;\n",
              "    }\n",
              "</style>\n",
              "<table border=\"1\" class=\"dataframe\">\n",
              "  <thead>\n",
              "    <tr style=\"text-align: right;\">\n",
              "      <th></th>\n",
              "      <th>Health Topics</th>\n",
              "      <th>Links</th>\n",
              "      <th>Overview</th>\n",
              "      <th>Impacts</th>\n",
              "      <th>WHO Response</th>\n",
              "    </tr>\n",
              "  </thead>\n",
              "  <tbody>\n",
              "    <tr>\n",
              "      <th>0</th>\n",
              "      <td>Abortion</td>\n",
              "      <td>https://www.who.int/health-topics/abortion</td>\n",
              "      <td>WHO defines health as a state of complete phys...</td>\n",
              "      <td>Restricting access to abortion does not reduce...</td>\n",
              "      <td>Abortion can be safely and effectively perform...</td>\n",
              "    </tr>\n",
              "    <tr>\n",
              "      <th>1</th>\n",
              "      <td>Abuse of older people</td>\n",
              "      <td>https://www.who.int/health-topics/abuse-of-old...</td>\n",
              "      <td>The abuse of older people, also known as elder...</td>\n",
              "      <td>Many strategies have been implemented to preve...</td>\n",
              "      <td>On 15 June 2022, World Elder Abuse Awareness D...</td>\n",
              "    </tr>\n",
              "    <tr>\n",
              "      <th>2</th>\n",
              "      <td>Addictive behaviour</td>\n",
              "      <td>https://www.who.int/health-topics/addictive-be...</td>\n",
              "      <td>Many people around the world are engaged in (v...</td>\n",
              "      <td>Use of the Internet, computers, smartphones an...</td>\n",
              "      <td>Disorders due to addictive behaviours are reco...</td>\n",
              "    </tr>\n",
              "    <tr>\n",
              "      <th>3</th>\n",
              "      <td>Adolescent health</td>\n",
              "      <td>https://www.who.int/health-topics/adolescent-h...</td>\n",
              "      <td>Adolescence is the phase of life between child...</td>\n",
              "      <td>There are more adolescents in the world than e...</td>\n",
              "      <td>WHO supports countries to ensure that their na...</td>\n",
              "    </tr>\n",
              "    <tr>\n",
              "      <th>4</th>\n",
              "      <td>Ageing</td>\n",
              "      <td>https://www.who.int/health-topics/ageing</td>\n",
              "      <td>Every person – in every country in the world –...</td>\n",
              "      <td>Ageing presents both challenges and opportunit...</td>\n",
              "      <td>WHO works with Member States, UN agencies and ...</td>\n",
              "    </tr>\n",
              "  </tbody>\n",
              "</table>\n",
              "</div>\n",
              "    <div class=\"colab-df-buttons\">\n",
              "\n",
              "  <div class=\"colab-df-container\">\n",
              "    <button class=\"colab-df-convert\" onclick=\"convertToInteractive('df-9c78fac7-13ef-4228-9506-4c54ed10063a')\"\n",
              "            title=\"Convert this dataframe to an interactive table.\"\n",
              "            style=\"display:none;\">\n",
              "\n",
              "  <svg xmlns=\"http://www.w3.org/2000/svg\" height=\"24px\" viewBox=\"0 -960 960 960\">\n",
              "    <path d=\"M120-120v-720h720v720H120Zm60-500h600v-160H180v160Zm220 220h160v-160H400v160Zm0 220h160v-160H400v160ZM180-400h160v-160H180v160Zm440 0h160v-160H620v160ZM180-180h160v-160H180v160Zm440 0h160v-160H620v160Z\"/>\n",
              "  </svg>\n",
              "    </button>\n",
              "\n",
              "  <style>\n",
              "    .colab-df-container {\n",
              "      display:flex;\n",
              "      gap: 12px;\n",
              "    }\n",
              "\n",
              "    .colab-df-convert {\n",
              "      background-color: #E8F0FE;\n",
              "      border: none;\n",
              "      border-radius: 50%;\n",
              "      cursor: pointer;\n",
              "      display: none;\n",
              "      fill: #1967D2;\n",
              "      height: 32px;\n",
              "      padding: 0 0 0 0;\n",
              "      width: 32px;\n",
              "    }\n",
              "\n",
              "    .colab-df-convert:hover {\n",
              "      background-color: #E2EBFA;\n",
              "      box-shadow: 0px 1px 2px rgba(60, 64, 67, 0.3), 0px 1px 3px 1px rgba(60, 64, 67, 0.15);\n",
              "      fill: #174EA6;\n",
              "    }\n",
              "\n",
              "    .colab-df-buttons div {\n",
              "      margin-bottom: 4px;\n",
              "    }\n",
              "\n",
              "    [theme=dark] .colab-df-convert {\n",
              "      background-color: #3B4455;\n",
              "      fill: #D2E3FC;\n",
              "    }\n",
              "\n",
              "    [theme=dark] .colab-df-convert:hover {\n",
              "      background-color: #434B5C;\n",
              "      box-shadow: 0px 1px 3px 1px rgba(0, 0, 0, 0.15);\n",
              "      filter: drop-shadow(0px 1px 2px rgba(0, 0, 0, 0.3));\n",
              "      fill: #FFFFFF;\n",
              "    }\n",
              "  </style>\n",
              "\n",
              "    <script>\n",
              "      const buttonEl =\n",
              "        document.querySelector('#df-9c78fac7-13ef-4228-9506-4c54ed10063a button.colab-df-convert');\n",
              "      buttonEl.style.display =\n",
              "        google.colab.kernel.accessAllowed ? 'block' : 'none';\n",
              "\n",
              "      async function convertToInteractive(key) {\n",
              "        const element = document.querySelector('#df-9c78fac7-13ef-4228-9506-4c54ed10063a');\n",
              "        const dataTable =\n",
              "          await google.colab.kernel.invokeFunction('convertToInteractive',\n",
              "                                                    [key], {});\n",
              "        if (!dataTable) return;\n",
              "\n",
              "        const docLinkHtml = 'Like what you see? Visit the ' +\n",
              "          '<a target=\"_blank\" href=https://colab.research.google.com/notebooks/data_table.ipynb>data table notebook</a>'\n",
              "          + ' to learn more about interactive tables.';\n",
              "        element.innerHTML = '';\n",
              "        dataTable['output_type'] = 'display_data';\n",
              "        await google.colab.output.renderOutput(dataTable, element);\n",
              "        const docLink = document.createElement('div');\n",
              "        docLink.innerHTML = docLinkHtml;\n",
              "        element.appendChild(docLink);\n",
              "      }\n",
              "    </script>\n",
              "  </div>\n",
              "\n",
              "\n",
              "    <div id=\"df-5a528a44-8f27-4ce7-83ed-85c650f6b7db\">\n",
              "      <button class=\"colab-df-quickchart\" onclick=\"quickchart('df-5a528a44-8f27-4ce7-83ed-85c650f6b7db')\"\n",
              "                title=\"Suggest charts\"\n",
              "                style=\"display:none;\">\n",
              "\n",
              "<svg xmlns=\"http://www.w3.org/2000/svg\" height=\"24px\"viewBox=\"0 0 24 24\"\n",
              "     width=\"24px\">\n",
              "    <g>\n",
              "        <path d=\"M19 3H5c-1.1 0-2 .9-2 2v14c0 1.1.9 2 2 2h14c1.1 0 2-.9 2-2V5c0-1.1-.9-2-2-2zM9 17H7v-7h2v7zm4 0h-2V7h2v10zm4 0h-2v-4h2v4z\"/>\n",
              "    </g>\n",
              "</svg>\n",
              "      </button>\n",
              "\n",
              "<style>\n",
              "  .colab-df-quickchart {\n",
              "      --bg-color: #E8F0FE;\n",
              "      --fill-color: #1967D2;\n",
              "      --hover-bg-color: #E2EBFA;\n",
              "      --hover-fill-color: #174EA6;\n",
              "      --disabled-fill-color: #AAA;\n",
              "      --disabled-bg-color: #DDD;\n",
              "  }\n",
              "\n",
              "  [theme=dark] .colab-df-quickchart {\n",
              "      --bg-color: #3B4455;\n",
              "      --fill-color: #D2E3FC;\n",
              "      --hover-bg-color: #434B5C;\n",
              "      --hover-fill-color: #FFFFFF;\n",
              "      --disabled-bg-color: #3B4455;\n",
              "      --disabled-fill-color: #666;\n",
              "  }\n",
              "\n",
              "  .colab-df-quickchart {\n",
              "    background-color: var(--bg-color);\n",
              "    border: none;\n",
              "    border-radius: 50%;\n",
              "    cursor: pointer;\n",
              "    display: none;\n",
              "    fill: var(--fill-color);\n",
              "    height: 32px;\n",
              "    padding: 0;\n",
              "    width: 32px;\n",
              "  }\n",
              "\n",
              "  .colab-df-quickchart:hover {\n",
              "    background-color: var(--hover-bg-color);\n",
              "    box-shadow: 0 1px 2px rgba(60, 64, 67, 0.3), 0 1px 3px 1px rgba(60, 64, 67, 0.15);\n",
              "    fill: var(--button-hover-fill-color);\n",
              "  }\n",
              "\n",
              "  .colab-df-quickchart-complete:disabled,\n",
              "  .colab-df-quickchart-complete:disabled:hover {\n",
              "    background-color: var(--disabled-bg-color);\n",
              "    fill: var(--disabled-fill-color);\n",
              "    box-shadow: none;\n",
              "  }\n",
              "\n",
              "  .colab-df-spinner {\n",
              "    border: 2px solid var(--fill-color);\n",
              "    border-color: transparent;\n",
              "    border-bottom-color: var(--fill-color);\n",
              "    animation:\n",
              "      spin 1s steps(1) infinite;\n",
              "  }\n",
              "\n",
              "  @keyframes spin {\n",
              "    0% {\n",
              "      border-color: transparent;\n",
              "      border-bottom-color: var(--fill-color);\n",
              "      border-left-color: var(--fill-color);\n",
              "    }\n",
              "    20% {\n",
              "      border-color: transparent;\n",
              "      border-left-color: var(--fill-color);\n",
              "      border-top-color: var(--fill-color);\n",
              "    }\n",
              "    30% {\n",
              "      border-color: transparent;\n",
              "      border-left-color: var(--fill-color);\n",
              "      border-top-color: var(--fill-color);\n",
              "      border-right-color: var(--fill-color);\n",
              "    }\n",
              "    40% {\n",
              "      border-color: transparent;\n",
              "      border-right-color: var(--fill-color);\n",
              "      border-top-color: var(--fill-color);\n",
              "    }\n",
              "    60% {\n",
              "      border-color: transparent;\n",
              "      border-right-color: var(--fill-color);\n",
              "    }\n",
              "    80% {\n",
              "      border-color: transparent;\n",
              "      border-right-color: var(--fill-color);\n",
              "      border-bottom-color: var(--fill-color);\n",
              "    }\n",
              "    90% {\n",
              "      border-color: transparent;\n",
              "      border-bottom-color: var(--fill-color);\n",
              "    }\n",
              "  }\n",
              "</style>\n",
              "\n",
              "      <script>\n",
              "        async function quickchart(key) {\n",
              "          const quickchartButtonEl =\n",
              "            document.querySelector('#' + key + ' button');\n",
              "          quickchartButtonEl.disabled = true;  // To prevent multiple clicks.\n",
              "          quickchartButtonEl.classList.add('colab-df-spinner');\n",
              "          try {\n",
              "            const charts = await google.colab.kernel.invokeFunction(\n",
              "                'suggestCharts', [key], {});\n",
              "          } catch (error) {\n",
              "            console.error('Error during call to suggestCharts:', error);\n",
              "          }\n",
              "          quickchartButtonEl.classList.remove('colab-df-spinner');\n",
              "          quickchartButtonEl.classList.add('colab-df-quickchart-complete');\n",
              "        }\n",
              "        (() => {\n",
              "          let quickchartButtonEl =\n",
              "            document.querySelector('#df-5a528a44-8f27-4ce7-83ed-85c650f6b7db button');\n",
              "          quickchartButtonEl.style.display =\n",
              "            google.colab.kernel.accessAllowed ? 'block' : 'none';\n",
              "        })();\n",
              "      </script>\n",
              "    </div>\n",
              "\n",
              "    </div>\n",
              "  </div>\n"
            ],
            "application/vnd.google.colaboratory.intrinsic+json": {
              "type": "dataframe",
              "variable_name": "df",
              "summary": "{\n  \"name\": \"df\",\n  \"rows\": 182,\n  \"fields\": [\n    {\n      \"column\": \"Health Topics\",\n      \"properties\": {\n        \"dtype\": \"string\",\n        \"num_unique_values\": 182,\n        \"samples\": [\n          \"Chagas disease (American trypanosomiasis)\",\n          \"Diabetes\",\n          \"Stillbirth\"\n        ],\n        \"semantic_type\": \"\",\n        \"description\": \"\"\n      }\n    },\n    {\n      \"column\": \"Links\",\n      \"properties\": {\n        \"dtype\": \"string\",\n        \"num_unique_values\": 182,\n        \"samples\": [\n          \"https://www.who.int/health-topics/chagas-disease\",\n          \"https://www.who.int/health-topics/diabetes\",\n          \"https://www.who.int/health-topics/stillbirth\"\n        ],\n        \"semantic_type\": \"\",\n        \"description\": \"\"\n      }\n    },\n    {\n      \"column\": \"Overview\",\n      \"properties\": {\n        \"dtype\": \"string\",\n        \"num_unique_values\": 182,\n        \"samples\": [\n          \"Chagas disease, also known as American trypanosomiasis, is a potentially life-threatening illness caused by the protozoan parasiteTrypanosoma cruzi.An estimated 6 to 7 million people worldwide are \\u00a0infected withT. cruzi. Chagas disease is found mainly in endemic areas of 21 continental Latin American countries, where it is mostly transmitted when humans come into contact with faeces and/or urine of infected blood-sucking triatomine bugs (vector-borne transmission).Chagas disease was once entirely confined to the Region of the Americas. In the last decades the epidemiological pattern of the disease \\u00a0changed from a rural to a mostly urban disease, mainly due to population mobility, urbanization and emigration. As a consequence, increased \\u00a0number of cases have been detected in Canada and the United States of America, and in many European and some African, Eastern Mediterranean and Western Pacific countries. Due to the high number of people who remain undiagnosed or untreated, combined with the areas with remaining active transmission, put an estimated 75 million people at risk of infection.Triatomine bugs typically live in the wall or roof cracks of poorly constructed homes in rural or suburban areas, becoming active at night, biting exposed areas of skin, then defecating close to the bite.The parasites enter the body when: i) the person inadvertently smears the bug\\u2019s waste into the bite or another skin break, the eyes or the mouth; ii) by consumption of food that has been contaminated with waste from infected triatomine bugs, typically infecting groups of people (causing outbreaks or oral transmission) with a higher frequency of severe disease and number of deaths.Everywhere Chagas disease can be also transmitted through blood or blood product transfusion from infected donors; by congenital (mother to child) transmission during pregnancy or childbirth; by organ transplantation from infected donors; and also by laboratory accidents.In May 2019, following up on decision of the 72ndWorld Health Assembly, the World Chagas Disease Day was established to be celebrated on 14 April (the date of the year 1909 when Carlos Chagas diagnosed the first human case of the disease, a two-year-old girl called Berenice).\",\n          \"Diabetes is a chronic, metabolic disease characterized by elevated levels of blood glucose (or blood sugar), which leads over time to serious damage to the heart, blood vessels, eyes, kidneys and nerves. The most common is type 2 diabetes, usually in adults, which occurs when the body becomes resistant to insulin or doesn't make enough insulin. In the past 3 decades the prevalence of type 2 diabetes has risen dramatically in countries of all income levels. Type 1 diabetes, once known as juvenile diabetes or insulin-dependent diabetes, is a chronic condition in which the pancreas produces little or no insulin by itself. For people living with diabetes, access to affordable treatment, including insulin, is critical to their survival. There is a globally agreed target to halt the rise in diabetes and obesity by 2025.About 830 million people worldwide have diabetes, the majority living in low-and middle-income countries. More than half of people living with diabetes are not receiving treatment. Both the number of people with diabetes and the number of people with untreated diabetes have been steadily increasing over the past decades.\",\n          \"A baby who dies after 28 weeks of pregnancy, but before or during birth, is classified as a stillbirth.There are nearly 2 million stillbirths every year \\u2013 one every 16 seconds. Over 40% of all stillbirths occur during labour \\u2013 a loss that could be avoided with improved quality and respectful care during childbirth including routine monitoring and timely access to emergency obstetric care when required.Experiencing a stillbirth during pregnancy or childbirth is a tragedy insufficiently addressed in global agendas, policies and funded programmes. There are psychological costs, especially to women and their families, such as maternal depression, financial consequences and economic repercussions, as well as stigma and taboo.In 2014, the World Health Assembly endorsed the Every Newborn Action Plan (ENAP), which includes a global target of 12 or fewer third trimester (late) stillbirths per 1,000 total births in every country by 2030. In 2021, 139 mainly high-income and upper middle-income countries had met this target, but 56 countries will not each the ENAP target by 2030 if further efforts are not made. If current trends continue, 15.9 million babies will be stillborn; nearly half of these (7.7 million, 48%) will occur in sub-Saharan Africa.\"\n        ],\n        \"semantic_type\": \"\",\n        \"description\": \"\"\n      }\n    },\n    {\n      \"column\": \"Impacts\",\n      \"properties\": {\n        \"dtype\": \"string\",\n        \"num_unique_values\": 182,\n        \"samples\": [\n          \"After the infection is transmitted there is an initial, acute phase that lasts for about two months. In most cases, symptoms are absent or mild and unspecific. In people bitten by a triatomine bug, characteristic first visible signs of infection, such as a skin lesion or a purplish swelling of the lids of one eye (the so-called Roma\\u00f1a sign), can help in the diagnosis of new cases. With any transmission route, patients can present fever, headache, enlarged lymph glands, pallor, muscle pain, difficulty in breathing, swelling, and abdominal or chest pain.During the chronic phase that succeeds the acute phase, up to 30% of patients suffer from cardiac\\u00a0disorders and up to 10% experience digestive, neurological or mixed disorders. In later years, the infection can lead to sudden death principally due to heart arrhythmia or heart failure caused by the destruction of the heart muscle and its nervous system.\",\n          \"Symptoms of type 1 diabetes include the need to urinate often, thirst, constant hunger, weight loss, vision changes and fatigue. These symptoms may occur suddenly. Symptoms for type 2 diabetes are generally similar to those of type 1 diabetes but are often less marked. As a result, the disease may be diagnosed several years after onset, after complications have already arisen. For this reason, it is important to be aware of risk factors.\",\n          \"With quality health care throughout pregnancy and childbirth, most stillbirths are preventable.The major causes of stillbirth include pregnancy and childbirth-related complications, prolonged pregnancy, maternal infections such as malaria, syphilis and HIV, maternal conditions especially hypertension, and diabetes, and fetal growth restriction (when an unborn baby is unable to achieve its growth potential and therefore smaller than it should be). Congenital abnormalities are responsible for less than 10% of stillbirths reported nationally in high-income countries and the exact proportion in low-income settings is unknown due to limitations in diagnostics. Factors related to age of the mother and practicing smoking can also increase the risk of maternal disease and stillbirth.Stillbirths can be prevented through family planning to avoid unwanted pregnancies, good health and nutrition prior to and during pregnancy, quality and respectful antenatal and childbirth care including adequate skilled health personnel including midwives.Syphilis treatment in pregnancy could also prevent an estimated 200 000 stillbirths, while fetal heart rate monitoring and labour surveillance and prompt interventions when needed are crucial for preventing 832 000 intrapartum stillbirths and reducing neonatal deaths.Stillbirths are strongly linked to adverse social and economic determinants of health. Prevention and responsive care need to be integrated across the continuum of maternal health care, and beyond. This includes respectful and supportive care in the event of a death.Listening to the experiences and voices of women and their communities is essential to help address issues of stigma associated with stillbirth.\"\n        ],\n        \"semantic_type\": \"\",\n        \"description\": \"\"\n      }\n    },\n    {\n      \"column\": \"WHO Response\",\n      \"properties\": {\n        \"dtype\": \"string\",\n        \"num_unique_values\": 182,\n        \"samples\": [\n          \"Chagas disease can be treated with two antiparasitic medicines: benznidazole and nifurtimox. Both medicines are nearly 100% effective in curing the disease if given soon after infection, including the cases of congenital transmission. The efficacy of both diminishes, however, the longer a person has been infected and the adverse reactions are more frequent at older age.Treatment is also indicated for those in whom the infection has been reactivated due to immunosuppression, and for patients during the early chronic phase. Infected adults, especially those with no symptoms, should be offered treatment because antiparasitic treatment can also prevent or curb disease progression and prevent congenital transmission in pregnant women. In other cases the potential benefits of medication in preventing or delaying the development of Chagas disease should be weighed against the duration of treatment (up to 2 months) and possible adverse reactions (occurring in up to 40% of treated adult patients).Benznidazole and nifurtimox should not be taken by pregnant women or by people with kidney or liver failure. Nifurtimox is also contraindicated for people with a background of neurological or psychiatric disorders.Additionally, specific treatment for cardiac, or digestive or neurological manifestations may be required.\",\n          \"Type 1 diabetes cannot currently be prevented. Effective approaches are available to prevent type 2 diabetes and to prevent the complications and premature death that can result from all types of diabetes. These include policies and practices across whole populations and within specific settings (school, home, workplace) that contribute to good health for everyone, regardless of whether they have diabetes, such as exercising regularly, eating healthily, avoiding smoking, and controlling blood pressure and lipids.The starting point for living well with diabetes is an early diagnosis \\u2013 the longer a person lives with undiagnosed and untreated diabetes, the worse their health outcomes are likely to be. Easy access to basic diagnostics, such as blood glucose testing, should therefore be available in primary health care settings. Patients will need periodic specialist assessment or treatment for complications.A series of cost-effective interventions can improve patient outcomes, regardless of what type of diabetes they may have. These interventions include blood glucose control through a combination of diet, physical activity and, if necessary, medication; control of blood pressure and lipids to reduce cardiovascular risk and other complications; and regular screening for damage to the eyes, kidneys and feet to facilitate early treatment.\",\n          \"More needs to be done to integrate stillbirth prevention within global and national agendas for high quality health care for women, adolescents, and babies.Through the Global Strategy for Women's, Children's and Adolescents Health 2016\\u20132030 and implementing the recommendations of theEvery Newborn Action Plan(2014), WHO is working to end preventable stillbirths, as part of efforts to improve maternal, newborn, child and adolescent health.Most stillbirths do not receive a birth certificate and are not registered. Improving systems for reporting births and neonatal deaths is a matter of human rights and a prerequisite for reducing stillbirths. In addition, there is a need to strengthen routine health information systems to accurately capture and report stillbirths for monitoring and improving the quality of care.WHO provides tools to help countries improve their data on both stillbirths and neonatal deaths. WHO also has guidance to help countries review and investigate individual deaths so they can recommend and implement solutions to prevent similar ones in the future and a standard classification system for perinatal deaths (ICD-PM).WHO and UNICEF are supporting a call for collective action to end preventable stillbirths by:increasing awareness and reducing stigmasupporting bereaved women and familiesstrengthening health systems to provide high-quality carenationalizing and localizing stillbirth targetsimproving measurement of stillbirths to enhance evidence and knowledge.\"\n        ],\n        \"semantic_type\": \"\",\n        \"description\": \"\"\n      }\n    }\n  ]\n}"
            }
          },
          "metadata": {},
          "execution_count": 23
        }
      ]
    },
    {
      "cell_type": "code",
      "source": [
        "# Export to CSV, TSV, and Excel\n",
        "df.to_csv('WHO Health Topics Webscrape.csv', index = False)\n",
        "df.to_csv('WHO Health Topics Webscrape.tsv', sep='\\t', index=True)\n",
        "df.to_excel('WHO Health Topics Webscrape.xlsx', index=False)\n"
      ],
      "metadata": {
        "id": "X9jd4lb2BIdN"
      },
      "execution_count": null,
      "outputs": []
    },
    {
      "cell_type": "markdown",
      "source": [
        "#### Conclusion\n",
        "\n",
        "In this notebook I successfully scraped the WHO Health Topic site, getting the different health topics and their respective topic links. I further scraped each link to obtain the overview, impact and WHO response sections. Then, I stored the data in a data frame and exported it in different file formats.  \n"
      ],
      "metadata": {
        "id": "fNWRo-PvWQl1"
      }
    }
  ]
}